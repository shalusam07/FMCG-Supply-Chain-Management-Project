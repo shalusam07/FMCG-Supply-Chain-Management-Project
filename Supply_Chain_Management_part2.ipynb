{
  "nbformat": 4,
  "nbformat_minor": 0,
  "metadata": {
    "colab": {
      "provenance": [],
      "mount_file_id": "1VrqqanCAW6eUDoiLxPJzX_NCTRSnP9Fm",
      "authorship_tag": "ABX9TyNtQyuTQS9g75G1UqYCaHsO",
      "include_colab_link": true
    },
    "kernelspec": {
      "name": "python3",
      "display_name": "Python 3"
    },
    "language_info": {
      "name": "python"
    }
  },
  "cells": [
    {
      "cell_type": "markdown",
      "metadata": {
        "id": "view-in-github",
        "colab_type": "text"
      },
      "source": [
        "<a href=\"https://colab.research.google.com/github/shalusam07/FMCG-Supply-Chain-Management-Project/blob/main/Supply_Chain_Management_part2.ipynb\" target=\"_parent\"><img src=\"https://colab.research.google.com/assets/colab-badge.svg\" alt=\"Open In Colab\"/></a>"
      ]
    },
    {
      "cell_type": "code",
      "execution_count": null,
      "metadata": {
        "id": "uqu4VXrG-z86"
      },
      "outputs": [],
      "source": [
        "import pandas as pd\n",
        "import numpy as np\n",
        "import matplotlib.pyplot as plt\n",
        "import seaborn as sns\n",
        "from sklearn.impute import SimpleImputer\n",
        "from sklearn.compose import make_column_selector, make_column_transformer\n",
        "from sklearn.model_selection import train_test_split, GridSearchCV\n",
        "from sklearn.preprocessing import StandardScaler, OneHotEncoder\n",
        "from sklearn.pipeline import make_pipeline\n",
        "from sklearn.linear_model import LinearRegression\n",
        "from sklearn.metrics import mean_absolute_error, mean_squared_error, r2_score\n",
        "from sklearn.tree import DecisionTreeRegressor\n",
        "from sklearn.ensemble import RandomForestRegressor, GradientBoostingRegressor\n",
        "from xgboost import XGBRegressor\n",
        "from tensorflow.keras.models import Sequential\n",
        "from tensorflow.keras.layers import Dense, Dropout, BatchNormalization\n",
        "from tensorflow.keras import metrics"
      ]
    },
    {
      "cell_type": "code",
      "source": [
        "df = pd.read_csv('/content/drive/MyDrive/Colab Notebooks/supply_train.csv')\n",
        "test = pd.read_csv('/content/drive/MyDrive/Colab Notebooks/supply_test.csv')"
      ],
      "metadata": {
        "id": "Jl8KLqNB_AXY"
      },
      "execution_count": null,
      "outputs": []
    },
    {
      "cell_type": "code",
      "source": [
        "df.shape"
      ],
      "metadata": {
        "colab": {
          "base_uri": "https://localhost:8080/"
        },
        "id": "DUeFzf7r_Aae",
        "outputId": "c54e7bed-efc8-4a29-c5fd-3d3cc3e3ab25"
      },
      "execution_count": null,
      "outputs": [
        {
          "output_type": "execute_result",
          "data": {
            "text/plain": [
              "(16620, 25)"
            ]
          },
          "metadata": {},
          "execution_count": 5
        }
      ]
    },
    {
      "cell_type": "code",
      "source": [
        "test.shape"
      ],
      "metadata": {
        "colab": {
          "base_uri": "https://localhost:8080/"
        },
        "id": "xarnn7Ki_AdE",
        "outputId": "9d069cfa-006f-4069-a0df-b98a3de8ce01"
      },
      "execution_count": null,
      "outputs": [
        {
          "output_type": "execute_result",
          "data": {
            "text/plain": [
              "(5529, 25)"
            ]
          },
          "metadata": {},
          "execution_count": 6
        }
      ]
    },
    {
      "cell_type": "code",
      "source": [
        "df = df.drop(columns = ['Unnamed: 0','Ware_house_ID', 'WH_Manager_ID'])"
      ],
      "metadata": {
        "id": "NwTSOkbh-3fI"
      },
      "execution_count": null,
      "outputs": []
    },
    {
      "cell_type": "code",
      "source": [
        "test = test.drop(columns = ['Unnamed: 0','Ware_house_ID', 'WH_Manager_ID'])"
      ],
      "metadata": {
        "id": "GAObpxMZAdWR"
      },
      "execution_count": null,
      "outputs": []
    },
    {
      "cell_type": "code",
      "source": [
        "df.shape"
      ],
      "metadata": {
        "colab": {
          "base_uri": "https://localhost:8080/"
        },
        "id": "n7O2xBj_Adc3",
        "outputId": "35fa5db9-9ec9-4c7e-eec5-d4c6a68a8db2"
      },
      "execution_count": null,
      "outputs": [
        {
          "output_type": "execute_result",
          "data": {
            "text/plain": [
              "(16620, 22)"
            ]
          },
          "metadata": {},
          "execution_count": 9
        }
      ]
    },
    {
      "cell_type": "code",
      "source": [
        "test.shape"
      ],
      "metadata": {
        "colab": {
          "base_uri": "https://localhost:8080/"
        },
        "id": "rGBoQTLmAlda",
        "outputId": "80844c78-c214-488e-944e-8cd679d7a514"
      },
      "execution_count": null,
      "outputs": [
        {
          "output_type": "execute_result",
          "data": {
            "text/plain": [
              "(5529, 22)"
            ]
          },
          "metadata": {},
          "execution_count": 10
        }
      ]
    },
    {
      "cell_type": "code",
      "source": [
        "df.duplicated().sum()\n",
        "test.duplicated().sum()"
      ],
      "metadata": {
        "colab": {
          "base_uri": "https://localhost:8080/"
        },
        "id": "AZWc6xFvAlgZ",
        "outputId": "9bd5bdc6-6b19-4fcb-f750-e6807ae07f00"
      },
      "execution_count": null,
      "outputs": [
        {
          "output_type": "execute_result",
          "data": {
            "text/plain": [
              "0"
            ]
          },
          "metadata": {},
          "execution_count": 11
        }
      ]
    },
    {
      "cell_type": "code",
      "source": [
        "df.isna().sum()\n",
        "print(\"----\")\n",
        "test.isna().sum()"
      ],
      "metadata": {
        "colab": {
          "base_uri": "https://localhost:8080/"
        },
        "id": "_BDLXB1CAtLC",
        "outputId": "534525c1-631e-43fb-f7d3-cfb982724fe9"
      },
      "execution_count": null,
      "outputs": [
        {
          "output_type": "stream",
          "name": "stdout",
          "text": [
            "----\n"
          ]
        },
        {
          "output_type": "execute_result",
          "data": {
            "text/plain": [
              "Location_type                      0\n",
              "WH_capacity_size                   0\n",
              "zone                               0\n",
              "WH_regional_zone                   0\n",
              "num_refill_req_l3m                 0\n",
              "transport_issue_l1y                0\n",
              "Competitor_in_mkt                  0\n",
              "retail_shop_num                    0\n",
              "wh_owner_type                      0\n",
              "distributor_num                    0\n",
              "flood_impacted                     0\n",
              "flood_proof                        0\n",
              "electric_supply                    0\n",
              "dist_from_hub                      0\n",
              "workers_num                      210\n",
              "wh_est_year                     2685\n",
              "storage_issue_reported_l3m         0\n",
              "temp_reg_mach                      0\n",
              "approved_wh_govt_certificate     206\n",
              "wh_breakdown_l3m                   0\n",
              "govt_check_l3m                     0\n",
              "product_wg_ton                     0\n",
              "dtype: int64"
            ]
          },
          "metadata": {},
          "execution_count": 12
        }
      ]
    },
    {
      "cell_type": "code",
      "source": [
        "df.isna().sum()"
      ],
      "metadata": {
        "colab": {
          "base_uri": "https://localhost:8080/"
        },
        "id": "Dt7h9-y5AtNq",
        "outputId": "e52b4487-1ded-4ee6-b46c-f5f157ca92bf"
      },
      "execution_count": null,
      "outputs": [
        {
          "output_type": "execute_result",
          "data": {
            "text/plain": [
              "Location_type                      0\n",
              "WH_capacity_size                   0\n",
              "zone                               0\n",
              "WH_regional_zone                   0\n",
              "num_refill_req_l3m                 0\n",
              "transport_issue_l1y                0\n",
              "Competitor_in_mkt                  0\n",
              "retail_shop_num                    0\n",
              "wh_owner_type                      0\n",
              "distributor_num                    0\n",
              "flood_impacted                     0\n",
              "flood_proof                        0\n",
              "electric_supply                    0\n",
              "dist_from_hub                      0\n",
              "workers_num                      667\n",
              "wh_est_year                     7860\n",
              "storage_issue_reported_l3m         0\n",
              "temp_reg_mach                      0\n",
              "approved_wh_govt_certificate     599\n",
              "wh_breakdown_l3m                   0\n",
              "govt_check_l3m                     0\n",
              "product_wg_ton                     0\n",
              "dtype: int64"
            ]
          },
          "metadata": {},
          "execution_count": 13
        }
      ]
    },
    {
      "cell_type": "code",
      "source": [
        "test['workers_num'].fillna(value =test['workers_num'].mean(),inplace=True)"
      ],
      "metadata": {
        "id": "KNwVPgPQA2FW"
      },
      "execution_count": null,
      "outputs": []
    },
    {
      "cell_type": "code",
      "source": [
        "df['workers_num'].fillna(value =test['workers_num'].mean(),inplace=True)"
      ],
      "metadata": {
        "id": "K9C1lfFhA2H7"
      },
      "execution_count": null,
      "outputs": []
    },
    {
      "cell_type": "code",
      "source": [
        "test['wh_est_year'].fillna(value =test['wh_est_year'].mean(),inplace=True)"
      ],
      "metadata": {
        "id": "Bgr3jdQHA2Ki"
      },
      "execution_count": null,
      "outputs": []
    },
    {
      "cell_type": "code",
      "source": [
        "df['wh_est_year'].fillna(value =test['wh_est_year'].mean(),inplace=True)"
      ],
      "metadata": {
        "id": "YxL2CKY8A2M5"
      },
      "execution_count": null,
      "outputs": []
    },
    {
      "cell_type": "code",
      "source": [
        "test['approved_wh_govt_certificate'].value_counts()"
      ],
      "metadata": {
        "colab": {
          "base_uri": "https://localhost:8080/"
        },
        "id": "allPFkyMA2Pw",
        "outputId": "df0a1c9a-91fe-400e-d624-2d77da07a7ab"
      },
      "execution_count": null,
      "outputs": [
        {
          "output_type": "execute_result",
          "data": {
            "text/plain": [
              "C     1220\n",
              "B+    1061\n",
              "B     1049\n",
              "A     1026\n",
              "A+     967\n",
              "Name: approved_wh_govt_certificate, dtype: int64"
            ]
          },
          "metadata": {},
          "execution_count": 18
        }
      ]
    },
    {
      "cell_type": "code",
      "source": [
        "df['approved_wh_govt_certificate'].value_counts()"
      ],
      "metadata": {
        "colab": {
          "base_uri": "https://localhost:8080/"
        },
        "id": "c_iSpj9PA2Sn",
        "outputId": "98b5a7d7-5b83-490f-f342-1f58d7684164"
      },
      "execution_count": null,
      "outputs": [
        {
          "output_type": "execute_result",
          "data": {
            "text/plain": [
              "C     3638\n",
              "B+    3260\n",
              "B     3220\n",
              "A     3132\n",
              "A+    2771\n",
              "Name: approved_wh_govt_certificate, dtype: int64"
            ]
          },
          "metadata": {},
          "execution_count": 19
        }
      ]
    },
    {
      "cell_type": "code",
      "source": [
        "test['approved_wh_govt_certificate'].fillna(value='C',inplace=True)"
      ],
      "metadata": {
        "id": "P-ydeDTLA2VN"
      },
      "execution_count": null,
      "outputs": []
    },
    {
      "cell_type": "code",
      "source": [
        "df['approved_wh_govt_certificate'].fillna(value='C',inplace=True)"
      ],
      "metadata": {
        "id": "2x3nX7LtAtQN"
      },
      "execution_count": null,
      "outputs": []
    },
    {
      "cell_type": "code",
      "source": [
        "df.isna().sum()"
      ],
      "metadata": {
        "colab": {
          "base_uri": "https://localhost:8080/"
        },
        "id": "41bamsdlEeug",
        "outputId": "69cd0929-68f3-4351-cb40-989e35097294"
      },
      "execution_count": null,
      "outputs": [
        {
          "output_type": "execute_result",
          "data": {
            "text/plain": [
              "Location_type                   0\n",
              "WH_capacity_size                0\n",
              "zone                            0\n",
              "WH_regional_zone                0\n",
              "num_refill_req_l3m              0\n",
              "transport_issue_l1y             0\n",
              "Competitor_in_mkt               0\n",
              "retail_shop_num                 0\n",
              "wh_owner_type                   0\n",
              "distributor_num                 0\n",
              "flood_impacted                  0\n",
              "flood_proof                     0\n",
              "electric_supply                 0\n",
              "dist_from_hub                   0\n",
              "workers_num                     0\n",
              "wh_est_year                     0\n",
              "storage_issue_reported_l3m      0\n",
              "temp_reg_mach                   0\n",
              "approved_wh_govt_certificate    0\n",
              "wh_breakdown_l3m                0\n",
              "govt_check_l3m                  0\n",
              "product_wg_ton                  0\n",
              "dtype: int64"
            ]
          },
          "metadata": {},
          "execution_count": 22
        }
      ]
    },
    {
      "cell_type": "code",
      "source": [
        "test.isna().sum()"
      ],
      "metadata": {
        "colab": {
          "base_uri": "https://localhost:8080/"
        },
        "id": "L6i9oSeUEe4A",
        "outputId": "22d7e02f-19a6-4776-df68-1660f4301baf"
      },
      "execution_count": null,
      "outputs": [
        {
          "output_type": "execute_result",
          "data": {
            "text/plain": [
              "Location_type                   0\n",
              "WH_capacity_size                0\n",
              "zone                            0\n",
              "WH_regional_zone                0\n",
              "num_refill_req_l3m              0\n",
              "transport_issue_l1y             0\n",
              "Competitor_in_mkt               0\n",
              "retail_shop_num                 0\n",
              "wh_owner_type                   0\n",
              "distributor_num                 0\n",
              "flood_impacted                  0\n",
              "flood_proof                     0\n",
              "electric_supply                 0\n",
              "dist_from_hub                   0\n",
              "workers_num                     0\n",
              "wh_est_year                     0\n",
              "storage_issue_reported_l3m      0\n",
              "temp_reg_mach                   0\n",
              "approved_wh_govt_certificate    0\n",
              "wh_breakdown_l3m                0\n",
              "govt_check_l3m                  0\n",
              "product_wg_ton                  0\n",
              "dtype: int64"
            ]
          },
          "metadata": {},
          "execution_count": 23
        }
      ]
    },
    {
      "cell_type": "code",
      "source": [
        "#Training dataset\n",
        "X = df.drop(columns='product_wg_ton')\n",
        "y = df['product_wg_ton']"
      ],
      "metadata": {
        "id": "Z3R-RUBBEncM"
      },
      "execution_count": null,
      "outputs": []
    },
    {
      "cell_type": "code",
      "source": [
        "#Testdata\n",
        "Xt = test.drop(columns='product_wg_ton')\n",
        "yt = test['product_wg_ton']"
      ],
      "metadata": {
        "id": "Jw4FGOBaEsKz"
      },
      "execution_count": null,
      "outputs": []
    },
    {
      "cell_type": "code",
      "source": [
        "X_train, X_test, y_train, y_test = train_test_split(X, y, random_state=42)"
      ],
      "metadata": {
        "id": "Rt0Np8tSEwZf"
      },
      "execution_count": null,
      "outputs": []
    },
    {
      "cell_type": "code",
      "source": [
        "num_cols = make_column_selector(dtype_include='number')\n",
        "cat_cols = make_column_selector(dtype_include='object')"
      ],
      "metadata": {
        "id": "CiuTb_NIE0Y1"
      },
      "execution_count": null,
      "outputs": []
    },
    {
      "cell_type": "code",
      "source": [
        "scaler = StandardScaler()\n",
        "ohe = OneHotEncoder()\n",
        "impute_median = SimpleImputer(strategy='median')\n",
        "impute_freq = SimpleImputer(strategy='most_frequent')"
      ],
      "metadata": {
        "id": "EkowzuM1E0by"
      },
      "execution_count": null,
      "outputs": []
    },
    {
      "cell_type": "code",
      "source": [
        "# Make pipeline\n",
        "num_pipe = make_pipeline(impute_median, scaler)\n",
        "cat_pipe = make_pipeline(impute_freq, ohe)"
      ],
      "metadata": {
        "id": "ZincEOJrE_GG"
      },
      "execution_count": null,
      "outputs": []
    },
    {
      "cell_type": "code",
      "source": [
        "# Set tuple\n",
        "num_tup = (num_pipe, num_cols)\n",
        "cat_tup = (cat_pipe, cat_cols)"
      ],
      "metadata": {
        "id": "ILIsNpkcE_I7"
      },
      "execution_count": null,
      "outputs": []
    },
    {
      "cell_type": "code",
      "source": [
        "col_tf = make_column_transformer(num_tup, cat_tup, remainder='passthrough')"
      ],
      "metadata": {
        "id": "e_AZMhvkFEZI"
      },
      "execution_count": null,
      "outputs": []
    },
    {
      "cell_type": "code",
      "source": [
        "X_train_processed = col_tf.fit(X_train)"
      ],
      "metadata": {
        "id": "loTwbFa0FEjD"
      },
      "execution_count": null,
      "outputs": []
    },
    {
      "cell_type": "code",
      "source": [
        "# Extract the feature names from one hot encoder\n",
        "cat_feature_names = col_tf.named_transformers_['pipeline-2']\\\n",
        "                              .named_steps['onehotencoder']\\\n",
        "                              .get_feature_names_out(cat_cols(X_train))\n",
        "\n",
        "cat_feature_names"
      ],
      "metadata": {
        "colab": {
          "base_uri": "https://localhost:8080/"
        },
        "id": "Ac2eHkqUFEqU",
        "outputId": "9d7b6a41-fc10-4ecc-9832-b5c358534ff4"
      },
      "execution_count": null,
      "outputs": [
        {
          "output_type": "execute_result",
          "data": {
            "text/plain": [
              "array(['Location_type_Rural', 'Location_type_Urban',\n",
              "       'WH_capacity_size_Large', 'WH_capacity_size_Mid',\n",
              "       'WH_capacity_size_Small', 'zone_East', 'zone_North', 'zone_South',\n",
              "       'zone_West', 'WH_regional_zone_Zone 1', 'WH_regional_zone_Zone 2',\n",
              "       'WH_regional_zone_Zone 3', 'WH_regional_zone_Zone 4',\n",
              "       'WH_regional_zone_Zone 5', 'WH_regional_zone_Zone 6',\n",
              "       'wh_owner_type_Company Owned', 'wh_owner_type_Rented',\n",
              "       'approved_wh_govt_certificate_A',\n",
              "       'approved_wh_govt_certificate_A+',\n",
              "       'approved_wh_govt_certificate_B',\n",
              "       'approved_wh_govt_certificate_B+',\n",
              "       'approved_wh_govt_certificate_C'], dtype=object)"
            ]
          },
          "metadata": {},
          "execution_count": 33
        }
      ]
    },
    {
      "cell_type": "code",
      "source": [
        "final_cols = num_cols(X_train) + list(cat_feature_names)\n",
        "final_cols"
      ],
      "metadata": {
        "colab": {
          "base_uri": "https://localhost:8080/"
        },
        "id": "ZNMYdq4wFExF",
        "outputId": "08bdc686-7f86-4eb4-d9d2-e2cc3794bd22"
      },
      "execution_count": null,
      "outputs": [
        {
          "output_type": "execute_result",
          "data": {
            "text/plain": [
              "['num_refill_req_l3m',\n",
              " 'transport_issue_l1y',\n",
              " 'Competitor_in_mkt',\n",
              " 'retail_shop_num',\n",
              " 'distributor_num',\n",
              " 'flood_impacted',\n",
              " 'flood_proof',\n",
              " 'electric_supply',\n",
              " 'dist_from_hub',\n",
              " 'workers_num',\n",
              " 'wh_est_year',\n",
              " 'storage_issue_reported_l3m',\n",
              " 'temp_reg_mach',\n",
              " 'wh_breakdown_l3m',\n",
              " 'govt_check_l3m',\n",
              " 'Location_type_Rural',\n",
              " 'Location_type_Urban',\n",
              " 'WH_capacity_size_Large',\n",
              " 'WH_capacity_size_Mid',\n",
              " 'WH_capacity_size_Small',\n",
              " 'zone_East',\n",
              " 'zone_North',\n",
              " 'zone_South',\n",
              " 'zone_West',\n",
              " 'WH_regional_zone_Zone 1',\n",
              " 'WH_regional_zone_Zone 2',\n",
              " 'WH_regional_zone_Zone 3',\n",
              " 'WH_regional_zone_Zone 4',\n",
              " 'WH_regional_zone_Zone 5',\n",
              " 'WH_regional_zone_Zone 6',\n",
              " 'wh_owner_type_Company Owned',\n",
              " 'wh_owner_type_Rented',\n",
              " 'approved_wh_govt_certificate_A',\n",
              " 'approved_wh_govt_certificate_A+',\n",
              " 'approved_wh_govt_certificate_B',\n",
              " 'approved_wh_govt_certificate_B+',\n",
              " 'approved_wh_govt_certificate_C']"
            ]
          },
          "metadata": {},
          "execution_count": 34
        }
      ]
    },
    {
      "cell_type": "code",
      "source": [
        "Xt_processed = col_tf.fit(Xt)"
      ],
      "metadata": {
        "id": "2qNkDOqjFYaI"
      },
      "execution_count": null,
      "outputs": []
    },
    {
      "cell_type": "code",
      "source": [
        "X_train_tf = col_tf.transform(X_train)\n",
        "X_test_tf = col_tf.transform(X_test)"
      ],
      "metadata": {
        "id": "Yc2iZuHpFYll"
      },
      "execution_count": null,
      "outputs": []
    },
    {
      "cell_type": "code",
      "source": [
        "Xtest_tf = col_tf.transform(Xt)"
      ],
      "metadata": {
        "id": "ei1GrWBlFiRx"
      },
      "execution_count": null,
      "outputs": []
    },
    {
      "cell_type": "code",
      "source": [
        "X_train_output = pd.DataFrame(X_train_tf, columns = final_cols)\n",
        "X_test_output = pd.DataFrame(X_test_tf, columns = final_cols)"
      ],
      "metadata": {
        "id": "v-vgzBKlFiUe"
      },
      "execution_count": null,
      "outputs": []
    },
    {
      "cell_type": "code",
      "source": [
        "def eval_model(true, pred):\n",
        "  mae = mean_absolute_error(true, pred)\n",
        "  mse = mean_squared_error(true, pred)\n",
        "  rmse = np.sqrt(mse)\n",
        "  r2 = r2_score(true, pred)\n",
        "  # print the results\n",
        "  rmse\n",
        "  print(f' MAE: {mae:.2f} \\n MSE: {mse:.2f} \\n RMSE: {rmse:.2f} \\n R2_score: {r2:.2f}')"
      ],
      "metadata": {
        "id": "9keeqLDEFiXn"
      },
      "execution_count": null,
      "outputs": []
    },
    {
      "cell_type": "code",
      "source": [
        "lr = LinearRegression()"
      ],
      "metadata": {
        "id": "pSCBAJKVFihQ"
      },
      "execution_count": null,
      "outputs": []
    },
    {
      "cell_type": "code",
      "source": [
        "lr.fit(X_train_tf, y_train)"
      ],
      "metadata": {
        "colab": {
          "base_uri": "https://localhost:8080/",
          "height": 75
        },
        "id": "kEW9QTT0F1kR",
        "outputId": "88bca969-48a4-4285-c3c5-df61f314ea3c"
      },
      "execution_count": null,
      "outputs": [
        {
          "output_type": "execute_result",
          "data": {
            "text/plain": [
              "LinearRegression()"
            ],
            "text/html": [
              "<style>#sk-container-id-1 {color: black;background-color: white;}#sk-container-id-1 pre{padding: 0;}#sk-container-id-1 div.sk-toggleable {background-color: white;}#sk-container-id-1 label.sk-toggleable__label {cursor: pointer;display: block;width: 100%;margin-bottom: 0;padding: 0.3em;box-sizing: border-box;text-align: center;}#sk-container-id-1 label.sk-toggleable__label-arrow:before {content: \"▸\";float: left;margin-right: 0.25em;color: #696969;}#sk-container-id-1 label.sk-toggleable__label-arrow:hover:before {color: black;}#sk-container-id-1 div.sk-estimator:hover label.sk-toggleable__label-arrow:before {color: black;}#sk-container-id-1 div.sk-toggleable__content {max-height: 0;max-width: 0;overflow: hidden;text-align: left;background-color: #f0f8ff;}#sk-container-id-1 div.sk-toggleable__content pre {margin: 0.2em;color: black;border-radius: 0.25em;background-color: #f0f8ff;}#sk-container-id-1 input.sk-toggleable__control:checked~div.sk-toggleable__content {max-height: 200px;max-width: 100%;overflow: auto;}#sk-container-id-1 input.sk-toggleable__control:checked~label.sk-toggleable__label-arrow:before {content: \"▾\";}#sk-container-id-1 div.sk-estimator input.sk-toggleable__control:checked~label.sk-toggleable__label {background-color: #d4ebff;}#sk-container-id-1 div.sk-label input.sk-toggleable__control:checked~label.sk-toggleable__label {background-color: #d4ebff;}#sk-container-id-1 input.sk-hidden--visually {border: 0;clip: rect(1px 1px 1px 1px);clip: rect(1px, 1px, 1px, 1px);height: 1px;margin: -1px;overflow: hidden;padding: 0;position: absolute;width: 1px;}#sk-container-id-1 div.sk-estimator {font-family: monospace;background-color: #f0f8ff;border: 1px dotted black;border-radius: 0.25em;box-sizing: border-box;margin-bottom: 0.5em;}#sk-container-id-1 div.sk-estimator:hover {background-color: #d4ebff;}#sk-container-id-1 div.sk-parallel-item::after {content: \"\";width: 100%;border-bottom: 1px solid gray;flex-grow: 1;}#sk-container-id-1 div.sk-label:hover label.sk-toggleable__label {background-color: #d4ebff;}#sk-container-id-1 div.sk-serial::before {content: \"\";position: absolute;border-left: 1px solid gray;box-sizing: border-box;top: 0;bottom: 0;left: 50%;z-index: 0;}#sk-container-id-1 div.sk-serial {display: flex;flex-direction: column;align-items: center;background-color: white;padding-right: 0.2em;padding-left: 0.2em;position: relative;}#sk-container-id-1 div.sk-item {position: relative;z-index: 1;}#sk-container-id-1 div.sk-parallel {display: flex;align-items: stretch;justify-content: center;background-color: white;position: relative;}#sk-container-id-1 div.sk-item::before, #sk-container-id-1 div.sk-parallel-item::before {content: \"\";position: absolute;border-left: 1px solid gray;box-sizing: border-box;top: 0;bottom: 0;left: 50%;z-index: -1;}#sk-container-id-1 div.sk-parallel-item {display: flex;flex-direction: column;z-index: 1;position: relative;background-color: white;}#sk-container-id-1 div.sk-parallel-item:first-child::after {align-self: flex-end;width: 50%;}#sk-container-id-1 div.sk-parallel-item:last-child::after {align-self: flex-start;width: 50%;}#sk-container-id-1 div.sk-parallel-item:only-child::after {width: 0;}#sk-container-id-1 div.sk-dashed-wrapped {border: 1px dashed gray;margin: 0 0.4em 0.5em 0.4em;box-sizing: border-box;padding-bottom: 0.4em;background-color: white;}#sk-container-id-1 div.sk-label label {font-family: monospace;font-weight: bold;display: inline-block;line-height: 1.2em;}#sk-container-id-1 div.sk-label-container {text-align: center;}#sk-container-id-1 div.sk-container {/* jupyter's `normalize.less` sets `[hidden] { display: none; }` but bootstrap.min.css set `[hidden] { display: none !important; }` so we also need the `!important` here to be able to override the default hidden behavior on the sphinx rendered scikit-learn.org. See: https://github.com/scikit-learn/scikit-learn/issues/21755 */display: inline-block !important;position: relative;}#sk-container-id-1 div.sk-text-repr-fallback {display: none;}</style><div id=\"sk-container-id-1\" class=\"sk-top-container\"><div class=\"sk-text-repr-fallback\"><pre>LinearRegression()</pre><b>In a Jupyter environment, please rerun this cell to show the HTML representation or trust the notebook. <br />On GitHub, the HTML representation is unable to render, please try loading this page with nbviewer.org.</b></div><div class=\"sk-container\" hidden><div class=\"sk-item\"><div class=\"sk-estimator sk-toggleable\"><input class=\"sk-toggleable__control sk-hidden--visually\" id=\"sk-estimator-id-1\" type=\"checkbox\" checked><label for=\"sk-estimator-id-1\" class=\"sk-toggleable__label sk-toggleable__label-arrow\">LinearRegression</label><div class=\"sk-toggleable__content\"><pre>LinearRegression()</pre></div></div></div></div></div>"
            ]
          },
          "metadata": {},
          "execution_count": 41
        }
      ]
    },
    {
      "cell_type": "code",
      "source": [
        "lr_train_preds = lr.predict(X_train_tf)\n",
        "lr_test_preds = lr.predict(X_test_tf)\n",
        "lr_test_p =lr.predict(Xtest_tf)\n",
        "Xtest_tf.dtype.names"
      ],
      "metadata": {
        "id": "d-FH4OmRF1nY"
      },
      "execution_count": null,
      "outputs": []
    },
    {
      "cell_type": "code",
      "source": [
        "print('Training Data')\n",
        "eval_model(y_train, lr_train_preds)\n",
        "print('\\nTesting Data')\n",
        "eval_model(y_test , lr_test_preds)\n",
        "print('\\nFor given test data')\n",
        "eval_model(yt,lr_test_p)"
      ],
      "metadata": {
        "colab": {
          "base_uri": "https://localhost:8080/"
        },
        "id": "cDm6zAwuGB4U",
        "outputId": "6f582921-eac4-4436-f1ee-4e84c2cfbd7e"
      },
      "execution_count": null,
      "outputs": [
        {
          "output_type": "stream",
          "name": "stdout",
          "text": [
            "Training Data\n",
            " MAE: 1004.58 \n",
            " MSE: 1870522.86 \n",
            " RMSE: 1367.67 \n",
            " R2_score: 0.99\n",
            "\n",
            "Testing Data\n",
            " MAE: 1032.11 \n",
            " MSE: 2085307.87 \n",
            " RMSE: 1444.06 \n",
            " R2_score: 0.98\n",
            "\n",
            "For given test data\n",
            " MAE: 1007.52 \n",
            " MSE: 1900505.48 \n",
            " RMSE: 1378.59 \n",
            " R2_score: 0.99\n"
          ]
        }
      ]
    },
    {
      "cell_type": "code",
      "source": [
        "# prompt: build random forest\n",
        "\n",
        "rf = RandomForestRegressor()\n",
        "rf.fit(X_train_tf, y_train)\n",
        "rf_train_preds = rf.predict(X_train_tf)\n",
        "rf_test_preds = rf.predict(X_test_tf)\n",
        "rf_test_p =rf.predict(Xtest_tf)\n",
        "print('Training Data')\n",
        "eval_model(y_train, rf_train_preds)\n",
        "print('\\nTesting Data')\n",
        "eval_model(y_test , rf_test_preds)\n",
        "print('\\nFor given test data')\n",
        "eval_model(yt,rf_test_p)\n"
      ],
      "metadata": {
        "colab": {
          "base_uri": "https://localhost:8080/"
        },
        "id": "2CFB1GZuGHnx",
        "outputId": "b057992c-7c36-4bd3-983b-8e44a6aaf4bc"
      },
      "execution_count": null,
      "outputs": [
        {
          "output_type": "stream",
          "name": "stdout",
          "text": [
            "Training Data\n",
            " MAE: 253.28 \n",
            " MSE: 117681.87 \n",
            " RMSE: 343.05 \n",
            " R2_score: 1.00\n",
            "\n",
            "Testing Data\n",
            " MAE: 679.72 \n",
            " MSE: 865475.49 \n",
            " RMSE: 930.31 \n",
            " R2_score: 0.99\n",
            "\n",
            "For given test data\n",
            " MAE: 665.57 \n",
            " MSE: 805966.54 \n",
            " RMSE: 897.76 \n",
            " R2_score: 0.99\n"
          ]
        }
      ]
    },
    {
      "cell_type": "code",
      "source": [
        "from keras import backend as K\n",
        "\n",
        "def r2_score(y_true, y_pred):\n",
        "    SS_res =  K.sum(K.square(y_true - y_pred))\n",
        "    SS_tot = K.sum(K.square(y_true - K.mean(y_true)))\n",
        "    return (1 - SS_res / (SS_tot + K.epsilon()))"
      ],
      "metadata": {
        "id": "FYz01H4-GCDw"
      },
      "execution_count": null,
      "outputs": []
    },
    {
      "cell_type": "code",
      "source": [
        "model_1 = Sequential()\n",
        "\n",
        "# Hidden layers\n",
        "model_1.add(Dense(37, input_dim = X_train_tf.shape[1], activation='relu'))\n",
        "model_1.add(Dense(25, activation='relu'))\n",
        "model_1.add(Dense(10, activation='relu'))\n",
        "\n",
        "# Output layer\n",
        "model_1.add(Dense(1, activation='linear'))\n",
        "\n",
        "# Compile the model\n",
        "model_1.compile(loss='mse', optimizer='adam', metrics=[metrics.MeanAbsoluteError(), metrics.RootMeanSquaredError()])\n",
        "\n",
        "# Fit the model\n",
        "history = model_1.fit(X_train_tf, y_train,\n",
        "                    validation_data = (X_test_tf, y_test),\n",
        "                    epochs = 100,\n",
        "                    batch_size = 32)"
      ],
      "metadata": {
        "colab": {
          "base_uri": "https://localhost:8080/"
        },
        "id": "oUA4kt2vGaXe",
        "outputId": "b719b614-fb23-47d4-a5a4-1fd394482926"
      },
      "execution_count": null,
      "outputs": [
        {
          "output_type": "stream",
          "name": "stdout",
          "text": [
            "Epoch 1/100\n",
            "390/390 [==============================] - 3s 4ms/step - loss: 529695680.0000 - mean_absolute_error: 19943.0117 - root_mean_squared_error: 23015.1191 - val_loss: 204028800.0000 - val_mean_absolute_error: 11550.5811 - val_root_mean_squared_error: 14283.8652\n",
            "Epoch 2/100\n",
            "390/390 [==============================] - 1s 4ms/step - loss: 54913320.0000 - mean_absolute_error: 5625.4980 - root_mean_squared_error: 7410.3521 - val_loss: 28208666.0000 - val_mean_absolute_error: 4223.4863 - val_root_mean_squared_error: 5311.1831\n",
            "Epoch 3/100\n",
            "390/390 [==============================] - 1s 4ms/step - loss: 22106920.0000 - mean_absolute_error: 3713.9089 - root_mean_squared_error: 4701.7998 - val_loss: 16716154.0000 - val_mean_absolute_error: 3236.9377 - val_root_mean_squared_error: 4088.5393\n",
            "Epoch 4/100\n",
            "390/390 [==============================] - 1s 3ms/step - loss: 12541635.0000 - mean_absolute_error: 2787.5764 - root_mean_squared_error: 3541.4170 - val_loss: 8853277.0000 - val_mean_absolute_error: 2351.2812 - val_root_mean_squared_error: 2975.4458\n",
            "Epoch 5/100\n",
            "390/390 [==============================] - 2s 5ms/step - loss: 6149262.0000 - mean_absolute_error: 1929.3668 - root_mean_squared_error: 2479.7705 - val_loss: 4138916.7500 - val_mean_absolute_error: 1567.8867 - val_root_mean_squared_error: 2034.4327\n",
            "Epoch 6/100\n",
            "390/390 [==============================] - 2s 4ms/step - loss: 2811296.2500 - mean_absolute_error: 1282.2101 - root_mean_squared_error: 1676.6920 - val_loss: 2109315.0000 - val_mean_absolute_error: 1094.6024 - val_root_mean_squared_error: 1452.3481\n",
            "Epoch 7/100\n",
            "390/390 [==============================] - 2s 4ms/step - loss: 1631219.2500 - mean_absolute_error: 973.7430 - root_mean_squared_error: 1277.1919 - val_loss: 1530574.1250 - val_mean_absolute_error: 923.8973 - val_root_mean_squared_error: 1237.1637\n",
            "Epoch 8/100\n",
            "390/390 [==============================] - 1s 3ms/step - loss: 1350796.7500 - mean_absolute_error: 892.5107 - root_mean_squared_error: 1162.2378 - val_loss: 1408720.5000 - val_mean_absolute_error: 895.0023 - val_root_mean_squared_error: 1186.8953\n",
            "Epoch 9/100\n",
            "390/390 [==============================] - 1s 3ms/step - loss: 1289347.1250 - mean_absolute_error: 878.9290 - root_mean_squared_error: 1135.4943 - val_loss: 1365352.3750 - val_mean_absolute_error: 884.2341 - val_root_mean_squared_error: 1168.4829\n",
            "Epoch 10/100\n",
            "390/390 [==============================] - 1s 3ms/step - loss: 1264901.7500 - mean_absolute_error: 877.3011 - root_mean_squared_error: 1124.6785 - val_loss: 1342550.1250 - val_mean_absolute_error: 882.1501 - val_root_mean_squared_error: 1158.6847\n",
            "Epoch 11/100\n",
            "390/390 [==============================] - 1s 3ms/step - loss: 1246052.6250 - mean_absolute_error: 871.8521 - root_mean_squared_error: 1116.2673 - val_loss: 1325450.8750 - val_mean_absolute_error: 879.6181 - val_root_mean_squared_error: 1151.2822\n",
            "Epoch 12/100\n",
            "390/390 [==============================] - 1s 3ms/step - loss: 1235072.1250 - mean_absolute_error: 871.4446 - root_mean_squared_error: 1111.3380 - val_loss: 1322937.2500 - val_mean_absolute_error: 872.4370 - val_root_mean_squared_error: 1150.1901\n",
            "Epoch 13/100\n",
            "390/390 [==============================] - 1s 3ms/step - loss: 1224052.5000 - mean_absolute_error: 866.4075 - root_mean_squared_error: 1106.3690 - val_loss: 1291723.1250 - val_mean_absolute_error: 868.3525 - val_root_mean_squared_error: 1136.5400\n",
            "Epoch 14/100\n",
            "390/390 [==============================] - 1s 3ms/step - loss: 1207676.7500 - mean_absolute_error: 862.8459 - root_mean_squared_error: 1098.9435 - val_loss: 1287351.2500 - val_mean_absolute_error: 863.5849 - val_root_mean_squared_error: 1134.6150\n",
            "Epoch 15/100\n",
            "390/390 [==============================] - 1s 3ms/step - loss: 1194813.7500 - mean_absolute_error: 856.1862 - root_mean_squared_error: 1093.0753 - val_loss: 1278888.6250 - val_mean_absolute_error: 861.1034 - val_root_mean_squared_error: 1130.8796\n",
            "Epoch 16/100\n",
            "390/390 [==============================] - 2s 5ms/step - loss: 1181407.0000 - mean_absolute_error: 851.6175 - root_mean_squared_error: 1086.9255 - val_loss: 1268547.5000 - val_mean_absolute_error: 858.7816 - val_root_mean_squared_error: 1126.2981\n",
            "Epoch 17/100\n",
            "390/390 [==============================] - 1s 4ms/step - loss: 1163994.3750 - mean_absolute_error: 846.1265 - root_mean_squared_error: 1078.8857 - val_loss: 1229896.7500 - val_mean_absolute_error: 845.3008 - val_root_mean_squared_error: 1109.0071\n",
            "Epoch 18/100\n",
            "390/390 [==============================] - 1s 4ms/step - loss: 1145392.5000 - mean_absolute_error: 838.4149 - root_mean_squared_error: 1070.2301 - val_loss: 1217905.3750 - val_mean_absolute_error: 837.6137 - val_root_mean_squared_error: 1103.5875\n",
            "Epoch 19/100\n",
            "390/390 [==============================] - 1s 4ms/step - loss: 1128027.5000 - mean_absolute_error: 829.3672 - root_mean_squared_error: 1062.0864 - val_loss: 1211718.2500 - val_mean_absolute_error: 838.1992 - val_root_mean_squared_error: 1100.7808\n",
            "Epoch 20/100\n",
            "390/390 [==============================] - 1s 3ms/step - loss: 1112803.6250 - mean_absolute_error: 824.0415 - root_mean_squared_error: 1054.8950 - val_loss: 1189643.7500 - val_mean_absolute_error: 830.2079 - val_root_mean_squared_error: 1090.7079\n",
            "Epoch 21/100\n",
            "390/390 [==============================] - 1s 3ms/step - loss: 1091501.6250 - mean_absolute_error: 814.8318 - root_mean_squared_error: 1044.7495 - val_loss: 1166063.5000 - val_mean_absolute_error: 818.8947 - val_root_mean_squared_error: 1079.8442\n",
            "Epoch 22/100\n",
            "390/390 [==============================] - 1s 3ms/step - loss: 1073379.7500 - mean_absolute_error: 806.8745 - root_mean_squared_error: 1036.0404 - val_loss: 1141214.5000 - val_mean_absolute_error: 810.8105 - val_root_mean_squared_error: 1068.2764\n",
            "Epoch 23/100\n",
            "390/390 [==============================] - 1s 3ms/step - loss: 1052990.8750 - mean_absolute_error: 798.5884 - root_mean_squared_error: 1026.1534 - val_loss: 1144715.0000 - val_mean_absolute_error: 811.9168 - val_root_mean_squared_error: 1069.9136\n",
            "Epoch 24/100\n",
            "390/390 [==============================] - 1s 3ms/step - loss: 1037586.6250 - mean_absolute_error: 792.0562 - root_mean_squared_error: 1018.6199 - val_loss: 1109775.8750 - val_mean_absolute_error: 797.6364 - val_root_mean_squared_error: 1053.4590\n",
            "Epoch 25/100\n",
            "390/390 [==============================] - 2s 4ms/step - loss: 1020250.2500 - mean_absolute_error: 783.9392 - root_mean_squared_error: 1010.0744 - val_loss: 1113104.5000 - val_mean_absolute_error: 796.5009 - val_root_mean_squared_error: 1055.0377\n",
            "Epoch 26/100\n",
            "390/390 [==============================] - 2s 6ms/step - loss: 1009656.1875 - mean_absolute_error: 779.4569 - root_mean_squared_error: 1004.8165 - val_loss: 1090801.6250 - val_mean_absolute_error: 789.2256 - val_root_mean_squared_error: 1044.4144\n",
            "Epoch 27/100\n",
            "390/390 [==============================] - 1s 3ms/step - loss: 997721.5000 - mean_absolute_error: 775.4285 - root_mean_squared_error: 998.8601 - val_loss: 1088163.8750 - val_mean_absolute_error: 786.2121 - val_root_mean_squared_error: 1043.1509\n",
            "Epoch 28/100\n",
            "390/390 [==============================] - 1s 3ms/step - loss: 988144.9375 - mean_absolute_error: 771.3131 - root_mean_squared_error: 994.0548 - val_loss: 1083474.8750 - val_mean_absolute_error: 785.4413 - val_root_mean_squared_error: 1040.9010\n",
            "Epoch 29/100\n",
            "390/390 [==============================] - 1s 3ms/step - loss: 977285.3750 - mean_absolute_error: 766.1422 - root_mean_squared_error: 988.5775 - val_loss: 1069320.0000 - val_mean_absolute_error: 780.0974 - val_root_mean_squared_error: 1034.0793\n",
            "Epoch 30/100\n",
            "390/390 [==============================] - 1s 3ms/step - loss: 971975.5625 - mean_absolute_error: 763.3848 - root_mean_squared_error: 985.8882 - val_loss: 1090280.8750 - val_mean_absolute_error: 789.9470 - val_root_mean_squared_error: 1044.1652\n",
            "Epoch 31/100\n",
            "390/390 [==============================] - 1s 3ms/step - loss: 965141.5625 - mean_absolute_error: 759.5353 - root_mean_squared_error: 982.4162 - val_loss: 1092253.1250 - val_mean_absolute_error: 791.4409 - val_root_mean_squared_error: 1045.1091\n",
            "Epoch 32/100\n",
            "390/390 [==============================] - 1s 3ms/step - loss: 962459.4375 - mean_absolute_error: 758.5728 - root_mean_squared_error: 981.0502 - val_loss: 1046366.4375 - val_mean_absolute_error: 769.3257 - val_root_mean_squared_error: 1022.9205\n",
            "Epoch 33/100\n",
            "390/390 [==============================] - 1s 4ms/step - loss: 958477.0625 - mean_absolute_error: 757.1669 - root_mean_squared_error: 979.0184 - val_loss: 1044422.3125 - val_mean_absolute_error: 767.9514 - val_root_mean_squared_error: 1021.9698\n",
            "Epoch 34/100\n",
            "390/390 [==============================] - 1s 3ms/step - loss: 952803.6250 - mean_absolute_error: 755.9761 - root_mean_squared_error: 976.1166 - val_loss: 1033271.8125 - val_mean_absolute_error: 762.2686 - val_root_mean_squared_error: 1016.4998\n",
            "Epoch 35/100\n",
            "390/390 [==============================] - 2s 4ms/step - loss: 944966.3125 - mean_absolute_error: 750.7202 - root_mean_squared_error: 972.0938 - val_loss: 1028095.9375 - val_mean_absolute_error: 762.6524 - val_root_mean_squared_error: 1013.9507\n",
            "Epoch 36/100\n",
            "390/390 [==============================] - 2s 5ms/step - loss: 944374.1875 - mean_absolute_error: 751.1069 - root_mean_squared_error: 971.7892 - val_loss: 1024080.8750 - val_mean_absolute_error: 757.7768 - val_root_mean_squared_error: 1011.9688\n",
            "Epoch 37/100\n",
            "390/390 [==============================] - 1s 3ms/step - loss: 940173.0625 - mean_absolute_error: 747.0766 - root_mean_squared_error: 969.6252 - val_loss: 1026558.4375 - val_mean_absolute_error: 760.2850 - val_root_mean_squared_error: 1013.1922\n",
            "Epoch 38/100\n",
            "390/390 [==============================] - 1s 3ms/step - loss: 933693.3750 - mean_absolute_error: 745.6179 - root_mean_squared_error: 966.2781 - val_loss: 1051001.8750 - val_mean_absolute_error: 774.1642 - val_root_mean_squared_error: 1025.1838\n",
            "Epoch 39/100\n",
            "390/390 [==============================] - 1s 3ms/step - loss: 931890.4375 - mean_absolute_error: 744.7678 - root_mean_squared_error: 965.3447 - val_loss: 1018832.0625 - val_mean_absolute_error: 755.9580 - val_root_mean_squared_error: 1009.3721\n",
            "Epoch 40/100\n",
            "390/390 [==============================] - 1s 3ms/step - loss: 927163.6875 - mean_absolute_error: 741.8816 - root_mean_squared_error: 962.8934 - val_loss: 1020980.9375 - val_mean_absolute_error: 757.9777 - val_root_mean_squared_error: 1010.4360\n",
            "Epoch 41/100\n",
            "390/390 [==============================] - 1s 3ms/step - loss: 925037.8750 - mean_absolute_error: 741.2225 - root_mean_squared_error: 961.7889 - val_loss: 1014358.7500 - val_mean_absolute_error: 755.4825 - val_root_mean_squared_error: 1007.1538\n",
            "Epoch 42/100\n",
            "390/390 [==============================] - 1s 3ms/step - loss: 921859.8125 - mean_absolute_error: 738.2776 - root_mean_squared_error: 960.1353 - val_loss: 1009845.4375 - val_mean_absolute_error: 756.9654 - val_root_mean_squared_error: 1004.9106\n",
            "Epoch 43/100\n",
            "390/390 [==============================] - 1s 3ms/step - loss: 920010.3750 - mean_absolute_error: 740.2134 - root_mean_squared_error: 959.1717 - val_loss: 1003890.5000 - val_mean_absolute_error: 747.0953 - val_root_mean_squared_error: 1001.9434\n",
            "Epoch 44/100\n",
            "390/390 [==============================] - 1s 3ms/step - loss: 915900.0000 - mean_absolute_error: 738.0796 - root_mean_squared_error: 957.0267 - val_loss: 999271.5000 - val_mean_absolute_error: 749.4160 - val_root_mean_squared_error: 999.6357\n",
            "Epoch 45/100\n",
            "390/390 [==============================] - 2s 4ms/step - loss: 912924.3125 - mean_absolute_error: 735.3303 - root_mean_squared_error: 955.4707 - val_loss: 1000036.0000 - val_mean_absolute_error: 752.8867 - val_root_mean_squared_error: 1000.0180\n",
            "Epoch 46/100\n",
            "390/390 [==============================] - 2s 5ms/step - loss: 910069.3125 - mean_absolute_error: 734.8050 - root_mean_squared_error: 953.9755 - val_loss: 991927.3125 - val_mean_absolute_error: 745.7525 - val_root_mean_squared_error: 995.9555\n",
            "Epoch 47/100\n",
            "390/390 [==============================] - 1s 3ms/step - loss: 912070.5000 - mean_absolute_error: 733.8727 - root_mean_squared_error: 955.0238 - val_loss: 993651.6875 - val_mean_absolute_error: 748.1345 - val_root_mean_squared_error: 996.8208\n",
            "Epoch 48/100\n",
            "390/390 [==============================] - 1s 3ms/step - loss: 905346.1250 - mean_absolute_error: 733.6455 - root_mean_squared_error: 951.4968 - val_loss: 986002.4375 - val_mean_absolute_error: 740.2944 - val_root_mean_squared_error: 992.9766\n",
            "Epoch 49/100\n",
            "390/390 [==============================] - 1s 3ms/step - loss: 900546.7500 - mean_absolute_error: 729.5703 - root_mean_squared_error: 948.9714 - val_loss: 1026029.3125 - val_mean_absolute_error: 761.5748 - val_root_mean_squared_error: 1012.9310\n",
            "Epoch 50/100\n",
            "390/390 [==============================] - 1s 3ms/step - loss: 898610.2500 - mean_absolute_error: 729.6129 - root_mean_squared_error: 947.9506 - val_loss: 1019574.3125 - val_mean_absolute_error: 759.8352 - val_root_mean_squared_error: 1009.7397\n",
            "Epoch 51/100\n",
            "390/390 [==============================] - 1s 3ms/step - loss: 895533.6875 - mean_absolute_error: 729.2592 - root_mean_squared_error: 946.3264 - val_loss: 978557.6250 - val_mean_absolute_error: 744.7230 - val_root_mean_squared_error: 989.2207\n",
            "Epoch 52/100\n",
            "390/390 [==============================] - 1s 3ms/step - loss: 895207.6875 - mean_absolute_error: 726.9938 - root_mean_squared_error: 946.1542 - val_loss: 977668.3125 - val_mean_absolute_error: 741.2101 - val_root_mean_squared_error: 988.7711\n",
            "Epoch 53/100\n",
            "390/390 [==============================] - 1s 3ms/step - loss: 893273.1250 - mean_absolute_error: 726.2450 - root_mean_squared_error: 945.1313 - val_loss: 985869.4375 - val_mean_absolute_error: 744.4658 - val_root_mean_squared_error: 992.9096\n",
            "Epoch 54/100\n",
            "390/390 [==============================] - 1s 3ms/step - loss: 886905.5000 - mean_absolute_error: 724.8829 - root_mean_squared_error: 941.7566 - val_loss: 984523.5000 - val_mean_absolute_error: 741.8239 - val_root_mean_squared_error: 992.2316\n",
            "Epoch 55/100\n",
            "390/390 [==============================] - 2s 5ms/step - loss: 882316.1250 - mean_absolute_error: 722.3315 - root_mean_squared_error: 939.3168 - val_loss: 1002099.3750 - val_mean_absolute_error: 749.2484 - val_root_mean_squared_error: 1001.0491\n",
            "Epoch 56/100\n",
            "390/390 [==============================] - 2s 4ms/step - loss: 884510.3125 - mean_absolute_error: 723.1249 - root_mean_squared_error: 940.4841 - val_loss: 988378.8125 - val_mean_absolute_error: 745.8149 - val_root_mean_squared_error: 994.1724\n",
            "Epoch 57/100\n",
            "390/390 [==============================] - 1s 3ms/step - loss: 882572.5000 - mean_absolute_error: 721.2759 - root_mean_squared_error: 939.4533 - val_loss: 966898.6250 - val_mean_absolute_error: 737.5940 - val_root_mean_squared_error: 983.3101\n",
            "Epoch 58/100\n",
            "390/390 [==============================] - 1s 3ms/step - loss: 878805.9375 - mean_absolute_error: 719.3998 - root_mean_squared_error: 937.4465 - val_loss: 966535.1250 - val_mean_absolute_error: 738.8154 - val_root_mean_squared_error: 983.1252\n",
            "Epoch 59/100\n",
            "390/390 [==============================] - 1s 3ms/step - loss: 878258.1250 - mean_absolute_error: 720.4736 - root_mean_squared_error: 937.1543 - val_loss: 961175.1875 - val_mean_absolute_error: 735.1955 - val_root_mean_squared_error: 980.3954\n",
            "Epoch 60/100\n",
            "390/390 [==============================] - 1s 3ms/step - loss: 874039.8125 - mean_absolute_error: 719.5871 - root_mean_squared_error: 934.9009 - val_loss: 966484.4375 - val_mean_absolute_error: 739.1630 - val_root_mean_squared_error: 983.0994\n",
            "Epoch 61/100\n",
            "390/390 [==============================] - 1s 3ms/step - loss: 874529.3750 - mean_absolute_error: 719.4485 - root_mean_squared_error: 935.1628 - val_loss: 975100.5625 - val_mean_absolute_error: 740.8760 - val_root_mean_squared_error: 987.4718\n",
            "Epoch 62/100\n",
            "390/390 [==============================] - 1s 3ms/step - loss: 872880.8750 - mean_absolute_error: 719.1317 - root_mean_squared_error: 934.2809 - val_loss: 963640.6250 - val_mean_absolute_error: 736.3155 - val_root_mean_squared_error: 981.6520\n",
            "Epoch 63/100\n",
            "390/390 [==============================] - 1s 3ms/step - loss: 869163.8125 - mean_absolute_error: 716.4501 - root_mean_squared_error: 932.2896 - val_loss: 961190.6250 - val_mean_absolute_error: 736.3821 - val_root_mean_squared_error: 980.4033\n",
            "Epoch 64/100\n",
            "390/390 [==============================] - 1s 3ms/step - loss: 870604.5000 - mean_absolute_error: 716.8792 - root_mean_squared_error: 933.0619 - val_loss: 958488.0000 - val_mean_absolute_error: 737.3323 - val_root_mean_squared_error: 979.0240\n",
            "Epoch 65/100\n",
            "390/390 [==============================] - 2s 4ms/step - loss: 870268.3125 - mean_absolute_error: 718.5039 - root_mean_squared_error: 932.8817 - val_loss: 954079.8750 - val_mean_absolute_error: 733.1681 - val_root_mean_squared_error: 976.7701\n",
            "Epoch 66/100\n",
            "390/390 [==============================] - 2s 4ms/step - loss: 870225.2500 - mean_absolute_error: 717.3360 - root_mean_squared_error: 932.8586 - val_loss: 969247.4375 - val_mean_absolute_error: 736.9633 - val_root_mean_squared_error: 984.5037\n",
            "Epoch 67/100\n",
            "390/390 [==============================] - 1s 4ms/step - loss: 868873.3750 - mean_absolute_error: 717.2832 - root_mean_squared_error: 932.1338 - val_loss: 961241.7500 - val_mean_absolute_error: 733.4854 - val_root_mean_squared_error: 980.4294\n",
            "Epoch 68/100\n",
            "390/390 [==============================] - 1s 3ms/step - loss: 861726.4375 - mean_absolute_error: 713.8279 - root_mean_squared_error: 928.2922 - val_loss: 963897.3125 - val_mean_absolute_error: 737.1154 - val_root_mean_squared_error: 981.7827\n",
            "Epoch 69/100\n",
            "390/390 [==============================] - 1s 3ms/step - loss: 861376.3125 - mean_absolute_error: 712.1754 - root_mean_squared_error: 928.1036 - val_loss: 955445.3125 - val_mean_absolute_error: 735.4198 - val_root_mean_squared_error: 977.4688\n",
            "Epoch 70/100\n",
            "390/390 [==============================] - 1s 3ms/step - loss: 862098.8750 - mean_absolute_error: 714.8992 - root_mean_squared_error: 928.4928 - val_loss: 964228.5625 - val_mean_absolute_error: 737.4579 - val_root_mean_squared_error: 981.9514\n",
            "Epoch 71/100\n",
            "390/390 [==============================] - 1s 3ms/step - loss: 861450.1875 - mean_absolute_error: 712.1394 - root_mean_squared_error: 928.1434 - val_loss: 949796.9375 - val_mean_absolute_error: 733.1367 - val_root_mean_squared_error: 974.5753\n",
            "Epoch 72/100\n",
            "390/390 [==============================] - 1s 3ms/step - loss: 859759.6875 - mean_absolute_error: 712.7260 - root_mean_squared_error: 927.2323 - val_loss: 951342.0625 - val_mean_absolute_error: 736.9831 - val_root_mean_squared_error: 975.3677\n",
            "Epoch 73/100\n",
            "390/390 [==============================] - 1s 3ms/step - loss: 860355.9375 - mean_absolute_error: 712.6568 - root_mean_squared_error: 927.5537 - val_loss: 955911.3750 - val_mean_absolute_error: 736.9067 - val_root_mean_squared_error: 977.7072\n",
            "Epoch 74/100\n",
            "390/390 [==============================] - 1s 3ms/step - loss: 859241.2500 - mean_absolute_error: 710.3021 - root_mean_squared_error: 926.9527 - val_loss: 955720.9375 - val_mean_absolute_error: 735.7998 - val_root_mean_squared_error: 977.6098\n",
            "Epoch 75/100\n",
            "390/390 [==============================] - 1s 3ms/step - loss: 853694.1875 - mean_absolute_error: 709.7780 - root_mean_squared_error: 923.9557 - val_loss: 946503.5000 - val_mean_absolute_error: 734.8835 - val_root_mean_squared_error: 972.8841\n",
            "Epoch 76/100\n",
            "390/390 [==============================] - 2s 4ms/step - loss: 857258.9375 - mean_absolute_error: 711.6222 - root_mean_squared_error: 925.8828 - val_loss: 945465.5000 - val_mean_absolute_error: 731.5826 - val_root_mean_squared_error: 972.3505\n",
            "Epoch 77/100\n",
            "390/390 [==============================] - 2s 4ms/step - loss: 854073.1875 - mean_absolute_error: 709.3480 - root_mean_squared_error: 924.1608 - val_loss: 946446.6875 - val_mean_absolute_error: 730.4584 - val_root_mean_squared_error: 972.8549\n",
            "Epoch 78/100\n",
            "390/390 [==============================] - 1s 3ms/step - loss: 851184.3125 - mean_absolute_error: 708.4835 - root_mean_squared_error: 922.5965 - val_loss: 946020.6250 - val_mean_absolute_error: 730.5403 - val_root_mean_squared_error: 972.6359\n",
            "Epoch 79/100\n",
            "390/390 [==============================] - 1s 3ms/step - loss: 854552.6875 - mean_absolute_error: 710.7081 - root_mean_squared_error: 924.4202 - val_loss: 947665.5625 - val_mean_absolute_error: 731.8395 - val_root_mean_squared_error: 973.4811\n",
            "Epoch 80/100\n",
            "390/390 [==============================] - 1s 3ms/step - loss: 848211.0625 - mean_absolute_error: 706.1842 - root_mean_squared_error: 920.9838 - val_loss: 952850.6250 - val_mean_absolute_error: 731.8840 - val_root_mean_squared_error: 976.1407\n",
            "Epoch 81/100\n",
            "390/390 [==============================] - 2s 4ms/step - loss: 851099.2500 - mean_absolute_error: 708.7366 - root_mean_squared_error: 922.5504 - val_loss: 940123.6875 - val_mean_absolute_error: 729.0564 - val_root_mean_squared_error: 969.5997\n",
            "Epoch 82/100\n",
            "390/390 [==============================] - 2s 4ms/step - loss: 848421.0625 - mean_absolute_error: 707.4412 - root_mean_squared_error: 921.0978 - val_loss: 939855.5625 - val_mean_absolute_error: 730.8534 - val_root_mean_squared_error: 969.4615\n",
            "Epoch 83/100\n",
            "390/390 [==============================] - 1s 3ms/step - loss: 849628.6250 - mean_absolute_error: 707.5106 - root_mean_squared_error: 921.7530 - val_loss: 956942.1875 - val_mean_absolute_error: 736.7297 - val_root_mean_squared_error: 978.2342\n",
            "Epoch 84/100\n",
            "390/390 [==============================] - 1s 3ms/step - loss: 849973.3125 - mean_absolute_error: 707.7476 - root_mean_squared_error: 921.9400 - val_loss: 935755.7500 - val_mean_absolute_error: 726.5308 - val_root_mean_squared_error: 967.3447\n",
            "Epoch 85/100\n",
            "390/390 [==============================] - 2s 4ms/step - loss: 845503.7500 - mean_absolute_error: 704.4556 - root_mean_squared_error: 919.5128 - val_loss: 930414.4375 - val_mean_absolute_error: 727.1714 - val_root_mean_squared_error: 964.5800\n",
            "Epoch 86/100\n",
            "390/390 [==============================] - 2s 4ms/step - loss: 841226.5625 - mean_absolute_error: 704.1070 - root_mean_squared_error: 917.1840 - val_loss: 938068.9375 - val_mean_absolute_error: 728.5277 - val_root_mean_squared_error: 968.5396\n",
            "Epoch 87/100\n",
            "390/390 [==============================] - 1s 4ms/step - loss: 841826.7500 - mean_absolute_error: 704.3744 - root_mean_squared_error: 917.5112 - val_loss: 935022.1250 - val_mean_absolute_error: 726.2667 - val_root_mean_squared_error: 966.9654\n",
            "Epoch 88/100\n",
            "390/390 [==============================] - 1s 3ms/step - loss: 841498.8125 - mean_absolute_error: 703.3335 - root_mean_squared_error: 917.3325 - val_loss: 970305.4375 - val_mean_absolute_error: 736.5749 - val_root_mean_squared_error: 985.0408\n",
            "Epoch 89/100\n",
            "390/390 [==============================] - 1s 3ms/step - loss: 839650.2500 - mean_absolute_error: 702.7712 - root_mean_squared_error: 916.3243 - val_loss: 936089.8125 - val_mean_absolute_error: 726.5775 - val_root_mean_squared_error: 967.5173\n",
            "Epoch 90/100\n",
            "390/390 [==============================] - 1s 3ms/step - loss: 839304.7500 - mean_absolute_error: 701.7650 - root_mean_squared_error: 916.1357 - val_loss: 926648.6875 - val_mean_absolute_error: 725.5709 - val_root_mean_squared_error: 962.6259\n",
            "Epoch 91/100\n",
            "390/390 [==============================] - 1s 3ms/step - loss: 836478.9375 - mean_absolute_error: 701.8329 - root_mean_squared_error: 914.5922 - val_loss: 935789.9375 - val_mean_absolute_error: 724.7648 - val_root_mean_squared_error: 967.3624\n",
            "Epoch 92/100\n",
            "390/390 [==============================] - 1s 3ms/step - loss: 836719.1250 - mean_absolute_error: 700.5619 - root_mean_squared_error: 914.7235 - val_loss: 924438.9375 - val_mean_absolute_error: 721.3583 - val_root_mean_squared_error: 961.4775\n",
            "Epoch 93/100\n",
            "390/390 [==============================] - 1s 3ms/step - loss: 838148.3125 - mean_absolute_error: 702.4941 - root_mean_squared_error: 915.5044 - val_loss: 926327.8125 - val_mean_absolute_error: 721.2448 - val_root_mean_squared_error: 962.4592\n",
            "Epoch 94/100\n",
            "390/390 [==============================] - 1s 3ms/step - loss: 834692.5625 - mean_absolute_error: 699.9013 - root_mean_squared_error: 913.6151 - val_loss: 921766.6875 - val_mean_absolute_error: 723.1017 - val_root_mean_squared_error: 960.0868\n",
            "Epoch 95/100\n",
            "390/390 [==============================] - 1s 3ms/step - loss: 833014.6250 - mean_absolute_error: 700.4861 - root_mean_squared_error: 912.6964 - val_loss: 937945.1875 - val_mean_absolute_error: 728.7238 - val_root_mean_squared_error: 968.4757\n",
            "Epoch 96/100\n",
            "390/390 [==============================] - 2s 4ms/step - loss: 833707.0625 - mean_absolute_error: 699.4521 - root_mean_squared_error: 913.0756 - val_loss: 926507.8125 - val_mean_absolute_error: 722.0521 - val_root_mean_squared_error: 962.5527\n",
            "Epoch 97/100\n",
            "390/390 [==============================] - 2s 4ms/step - loss: 829991.7500 - mean_absolute_error: 698.3950 - root_mean_squared_error: 911.0388 - val_loss: 929057.7500 - val_mean_absolute_error: 725.1909 - val_root_mean_squared_error: 963.8764\n",
            "Epoch 98/100\n",
            "390/390 [==============================] - 1s 4ms/step - loss: 831038.7500 - mean_absolute_error: 699.2286 - root_mean_squared_error: 911.6133 - val_loss: 923506.4375 - val_mean_absolute_error: 721.6453 - val_root_mean_squared_error: 960.9924\n",
            "Epoch 99/100\n",
            "390/390 [==============================] - 1s 3ms/step - loss: 830575.0000 - mean_absolute_error: 699.9795 - root_mean_squared_error: 911.3589 - val_loss: 926613.5625 - val_mean_absolute_error: 721.6896 - val_root_mean_squared_error: 962.6077\n",
            "Epoch 100/100\n",
            "390/390 [==============================] - 1s 4ms/step - loss: 827013.1875 - mean_absolute_error: 696.6861 - root_mean_squared_error: 909.4026 - val_loss: 921668.5625 - val_mean_absolute_error: 722.2006 - val_root_mean_squared_error: 960.0357\n"
          ]
        }
      ]
    },
    {
      "cell_type": "code",
      "source": [
        "y_pred_train_1 = model_1.predict(X_train_tf)\n",
        "y_pred_test_1 = model_1.predict(X_test_tf)\n",
        "y_t = model_1.predict(Xtest_tf)"
      ],
      "metadata": {
        "colab": {
          "base_uri": "https://localhost:8080/"
        },
        "id": "RvcGknLHGaey",
        "outputId": "588d21f0-8465-4c2d-b912-d9d6921b9755"
      },
      "execution_count": null,
      "outputs": [
        {
          "output_type": "stream",
          "name": "stdout",
          "text": [
            "390/390 [==============================] - 1s 3ms/step\n",
            "130/130 [==============================] - 0s 2ms/step\n",
            "173/173 [==============================] - 0s 2ms/step\n"
          ]
        }
      ]
    },
    {
      "cell_type": "code",
      "source": [
        "model_2 = Sequential()\n",
        "\n",
        "# Hidden layers\n",
        "model_2.add(Dense(37, input_dim = X_train_tf.shape[1], activation='relu'))\n",
        "model_2.add(Dropout(.2))\n",
        "model_2.add(Dense(25, activation='relu'))\n",
        "model_2.add(Dropout(.2))\n",
        "model_2.add(Dense(10, activation='relu'))\n",
        "model_2.add(Dropout(.2))\n",
        "\n",
        "# Output layer\n",
        "model_2.add(Dense(1, activation='linear'))\n",
        "\n",
        "# Compile the model\n",
        "model_2.compile(loss='mse', optimizer='adam', metrics=[metrics.MeanAbsoluteError(), metrics.RootMeanSquaredError()])\n",
        "\n",
        "# Fit the model\n",
        "history = model_2.fit(X_train_tf, y_train,\n",
        "                    validation_data = (X_test_tf, y_test),\n",
        "                    epochs = 100,\n",
        "                    batch_size = 32)\n"
      ],
      "metadata": {
        "colab": {
          "base_uri": "https://localhost:8080/"
        },
        "id": "S3WckGowGajN",
        "outputId": "11a2352d-0534-41bc-e9d0-f5e06e2f8683"
      },
      "execution_count": null,
      "outputs": [
        {
          "output_type": "stream",
          "name": "stdout",
          "text": [
            "Epoch 1/100\n",
            "390/390 [==============================] - 3s 5ms/step - loss: 523640096.0000 - mean_absolute_error: 19768.4121 - root_mean_squared_error: 22883.1836 - val_loss: 177811392.0000 - val_mean_absolute_error: 10676.4893 - val_root_mean_squared_error: 13334.5938\n",
            "Epoch 2/100\n",
            "390/390 [==============================] - 1s 4ms/step - loss: 84278264.0000 - mean_absolute_error: 7000.3242 - root_mean_squared_error: 9180.3193 - val_loss: 30844732.0000 - val_mean_absolute_error: 4331.1489 - val_root_mean_squared_error: 5553.8032\n",
            "Epoch 3/100\n",
            "390/390 [==============================] - 1s 4ms/step - loss: 60204880.0000 - mean_absolute_error: 5881.2168 - root_mean_squared_error: 7759.1802 - val_loss: 19459836.0000 - val_mean_absolute_error: 3448.8711 - val_root_mean_squared_error: 4411.3306\n",
            "Epoch 4/100\n",
            "390/390 [==============================] - 1s 4ms/step - loss: 51778836.0000 - mean_absolute_error: 5388.9375 - root_mean_squared_error: 7195.7515 - val_loss: 11688283.0000 - val_mean_absolute_error: 2660.7659 - val_root_mean_squared_error: 3418.8130\n",
            "Epoch 5/100\n",
            "390/390 [==============================] - 2s 6ms/step - loss: 45581204.0000 - mean_absolute_error: 4971.8384 - root_mean_squared_error: 6751.3853 - val_loss: 6557934.5000 - val_mean_absolute_error: 1961.8164 - val_root_mean_squared_error: 2560.8464\n",
            "Epoch 6/100\n",
            "390/390 [==============================] - 2s 4ms/step - loss: 43286908.0000 - mean_absolute_error: 4772.4429 - root_mean_squared_error: 6579.2788 - val_loss: 6226983.5000 - val_mean_absolute_error: 1904.5269 - val_root_mean_squared_error: 2495.3923\n",
            "Epoch 7/100\n",
            "390/390 [==============================] - 1s 4ms/step - loss: 40670484.0000 - mean_absolute_error: 4645.0483 - root_mean_squared_error: 6377.3413 - val_loss: 4946971.0000 - val_mean_absolute_error: 1682.2235 - val_root_mean_squared_error: 2224.1787\n",
            "Epoch 8/100\n",
            "390/390 [==============================] - 2s 4ms/step - loss: 43116948.0000 - mean_absolute_error: 4670.5576 - root_mean_squared_error: 6566.3496 - val_loss: 3626281.7500 - val_mean_absolute_error: 1436.0630 - val_root_mean_squared_error: 1904.2799\n",
            "Epoch 9/100\n",
            "390/390 [==============================] - 1s 4ms/step - loss: 41838604.0000 - mean_absolute_error: 4623.8770 - root_mean_squared_error: 6468.2769 - val_loss: 3798155.0000 - val_mean_absolute_error: 1477.1898 - val_root_mean_squared_error: 1948.8856\n",
            "Epoch 10/100\n",
            "390/390 [==============================] - 1s 4ms/step - loss: 41824496.0000 - mean_absolute_error: 4627.3408 - root_mean_squared_error: 6467.1860 - val_loss: 3605720.5000 - val_mean_absolute_error: 1437.5286 - val_root_mean_squared_error: 1898.8735\n",
            "Epoch 11/100\n",
            "390/390 [==============================] - 1s 4ms/step - loss: 41508664.0000 - mean_absolute_error: 4610.9819 - root_mean_squared_error: 6442.7217 - val_loss: 3430104.2500 - val_mean_absolute_error: 1405.2262 - val_root_mean_squared_error: 1852.0541\n",
            "Epoch 12/100\n",
            "390/390 [==============================] - 1s 4ms/step - loss: 41396500.0000 - mean_absolute_error: 4612.3955 - root_mean_squared_error: 6434.0112 - val_loss: 5495848.0000 - val_mean_absolute_error: 1909.2791 - val_root_mean_squared_error: 2344.3225\n",
            "Epoch 13/100\n",
            "390/390 [==============================] - 2s 5ms/step - loss: 40615724.0000 - mean_absolute_error: 4570.6313 - root_mean_squared_error: 6373.0469 - val_loss: 4383276.5000 - val_mean_absolute_error: 1661.7563 - val_root_mean_squared_error: 2093.6277\n",
            "Epoch 14/100\n",
            "390/390 [==============================] - 2s 5ms/step - loss: 40832712.0000 - mean_absolute_error: 4576.3218 - root_mean_squared_error: 6390.0479 - val_loss: 3191919.7500 - val_mean_absolute_error: 1352.5121 - val_root_mean_squared_error: 1786.5945\n",
            "Epoch 15/100\n",
            "390/390 [==============================] - 1s 4ms/step - loss: 42273264.0000 - mean_absolute_error: 4643.6738 - root_mean_squared_error: 6501.7891 - val_loss: 2980471.7500 - val_mean_absolute_error: 1309.8698 - val_root_mean_squared_error: 1726.4043\n",
            "Epoch 16/100\n",
            "390/390 [==============================] - 1s 4ms/step - loss: 41352036.0000 - mean_absolute_error: 4589.9077 - root_mean_squared_error: 6430.5547 - val_loss: 3209783.0000 - val_mean_absolute_error: 1373.6760 - val_root_mean_squared_error: 1791.5867\n",
            "Epoch 17/100\n",
            "390/390 [==============================] - 1s 4ms/step - loss: 41584588.0000 - mean_absolute_error: 4606.8936 - root_mean_squared_error: 6448.6113 - val_loss: 3448466.5000 - val_mean_absolute_error: 1426.0898 - val_root_mean_squared_error: 1857.0048\n",
            "Epoch 18/100\n",
            "390/390 [==============================] - 1s 4ms/step - loss: 40606012.0000 - mean_absolute_error: 4586.9722 - root_mean_squared_error: 6372.2847 - val_loss: 4782195.0000 - val_mean_absolute_error: 1745.0582 - val_root_mean_squared_error: 2186.8230\n",
            "Epoch 19/100\n",
            "390/390 [==============================] - 1s 3ms/step - loss: 41221976.0000 - mean_absolute_error: 4600.1055 - root_mean_squared_error: 6420.4341 - val_loss: 3687340.0000 - val_mean_absolute_error: 1487.1815 - val_root_mean_squared_error: 1920.2448\n",
            "Epoch 20/100\n",
            "390/390 [==============================] - 1s 4ms/step - loss: 40922072.0000 - mean_absolute_error: 4575.3496 - root_mean_squared_error: 6397.0361 - val_loss: 4042166.5000 - val_mean_absolute_error: 1585.1533 - val_root_mean_squared_error: 2010.5140\n",
            "Epoch 21/100\n",
            "390/390 [==============================] - 2s 5ms/step - loss: 41424024.0000 - mean_absolute_error: 4585.9468 - root_mean_squared_error: 6436.1499 - val_loss: 3455070.0000 - val_mean_absolute_error: 1457.4481 - val_root_mean_squared_error: 1858.7819\n",
            "Epoch 22/100\n",
            "390/390 [==============================] - 2s 6ms/step - loss: 41882456.0000 - mean_absolute_error: 4613.0361 - root_mean_squared_error: 6471.6655 - val_loss: 4484041.5000 - val_mean_absolute_error: 1671.2903 - val_root_mean_squared_error: 2117.5557\n",
            "Epoch 23/100\n",
            "390/390 [==============================] - 2s 4ms/step - loss: 39958692.0000 - mean_absolute_error: 4511.9521 - root_mean_squared_error: 6321.2886 - val_loss: 3021318.2500 - val_mean_absolute_error: 1307.6912 - val_root_mean_squared_error: 1738.1940\n",
            "Epoch 24/100\n",
            "390/390 [==============================] - 2s 4ms/step - loss: 40600184.0000 - mean_absolute_error: 4577.5947 - root_mean_squared_error: 6371.8271 - val_loss: 4537339.0000 - val_mean_absolute_error: 1678.1805 - val_root_mean_squared_error: 2130.1030\n",
            "Epoch 25/100\n",
            "390/390 [==============================] - 1s 4ms/step - loss: 39606708.0000 - mean_absolute_error: 4494.4956 - root_mean_squared_error: 6293.3862 - val_loss: 4072827.7500 - val_mean_absolute_error: 1581.9092 - val_root_mean_squared_error: 2018.1248\n",
            "Epoch 26/100\n",
            "390/390 [==============================] - 1s 4ms/step - loss: 40700584.0000 - mean_absolute_error: 4567.2710 - root_mean_squared_error: 6379.7012 - val_loss: 3395962.2500 - val_mean_absolute_error: 1414.6024 - val_root_mean_squared_error: 1842.8137\n",
            "Epoch 27/100\n",
            "390/390 [==============================] - 2s 4ms/step - loss: 41104144.0000 - mean_absolute_error: 4601.1934 - root_mean_squared_error: 6411.2515 - val_loss: 4310248.5000 - val_mean_absolute_error: 1638.2994 - val_root_mean_squared_error: 2076.1138\n",
            "Epoch 28/100\n",
            "390/390 [==============================] - 1s 4ms/step - loss: 41290972.0000 - mean_absolute_error: 4569.0156 - root_mean_squared_error: 6425.8052 - val_loss: 4609634.0000 - val_mean_absolute_error: 1717.9635 - val_root_mean_squared_error: 2147.0059\n",
            "Epoch 29/100\n",
            "390/390 [==============================] - 2s 4ms/step - loss: 40459000.0000 - mean_absolute_error: 4565.7847 - root_mean_squared_error: 6360.7388 - val_loss: 3700685.5000 - val_mean_absolute_error: 1489.9100 - val_root_mean_squared_error: 1923.7166\n",
            "Epoch 30/100\n",
            "390/390 [==============================] - 2s 5ms/step - loss: 41544604.0000 - mean_absolute_error: 4610.0581 - root_mean_squared_error: 6445.5103 - val_loss: 4027192.2500 - val_mean_absolute_error: 1578.3843 - val_root_mean_squared_error: 2006.7865\n",
            "Epoch 31/100\n",
            "390/390 [==============================] - 2s 5ms/step - loss: 40881732.0000 - mean_absolute_error: 4602.5894 - root_mean_squared_error: 6393.8823 - val_loss: 4321004.0000 - val_mean_absolute_error: 1663.3920 - val_root_mean_squared_error: 2078.7024\n",
            "Epoch 32/100\n",
            "390/390 [==============================] - 2s 4ms/step - loss: 40075552.0000 - mean_absolute_error: 4546.7534 - root_mean_squared_error: 6330.5254 - val_loss: 3940026.7500 - val_mean_absolute_error: 1547.6747 - val_root_mean_squared_error: 1984.9501\n",
            "Epoch 33/100\n",
            "390/390 [==============================] - 1s 4ms/step - loss: 42456100.0000 - mean_absolute_error: 4658.9155 - root_mean_squared_error: 6515.8345 - val_loss: 3607537.2500 - val_mean_absolute_error: 1482.2375 - val_root_mean_squared_error: 1899.3518\n",
            "Epoch 34/100\n",
            "390/390 [==============================] - 1s 3ms/step - loss: 40099656.0000 - mean_absolute_error: 4520.1987 - root_mean_squared_error: 6332.4287 - val_loss: 4804525.5000 - val_mean_absolute_error: 1765.9298 - val_root_mean_squared_error: 2191.9229\n",
            "Epoch 35/100\n",
            "390/390 [==============================] - 1s 3ms/step - loss: 41162560.0000 - mean_absolute_error: 4586.4995 - root_mean_squared_error: 6415.8057 - val_loss: 4027778.0000 - val_mean_absolute_error: 1576.3354 - val_root_mean_squared_error: 2006.9325\n",
            "Epoch 36/100\n",
            "390/390 [==============================] - 1s 4ms/step - loss: 41072184.0000 - mean_absolute_error: 4575.3633 - root_mean_squared_error: 6408.7583 - val_loss: 3415445.5000 - val_mean_absolute_error: 1417.9167 - val_root_mean_squared_error: 1848.0924\n",
            "Epoch 37/100\n",
            "390/390 [==============================] - 2s 4ms/step - loss: 42017528.0000 - mean_absolute_error: 4615.6084 - root_mean_squared_error: 6482.0928 - val_loss: 3257178.7500 - val_mean_absolute_error: 1387.2445 - val_root_mean_squared_error: 1804.7656\n",
            "Epoch 38/100\n",
            "390/390 [==============================] - 2s 5ms/step - loss: 42294580.0000 - mean_absolute_error: 4635.3013 - root_mean_squared_error: 6503.4282 - val_loss: 3109299.7500 - val_mean_absolute_error: 1356.7235 - val_root_mean_squared_error: 1763.3207\n",
            "Epoch 39/100\n",
            "390/390 [==============================] - 2s 5ms/step - loss: 41590732.0000 - mean_absolute_error: 4612.5029 - root_mean_squared_error: 6449.0879 - val_loss: 5130837.5000 - val_mean_absolute_error: 1815.5863 - val_root_mean_squared_error: 2265.1353\n",
            "Epoch 40/100\n",
            "390/390 [==============================] - 1s 3ms/step - loss: 41251356.0000 - mean_absolute_error: 4607.8911 - root_mean_squared_error: 6422.7217 - val_loss: 3004370.2500 - val_mean_absolute_error: 1307.8575 - val_root_mean_squared_error: 1733.3119\n",
            "Epoch 41/100\n",
            "390/390 [==============================] - 1s 4ms/step - loss: 41988648.0000 - mean_absolute_error: 4620.1460 - root_mean_squared_error: 6479.8647 - val_loss: 3335327.0000 - val_mean_absolute_error: 1428.2216 - val_root_mean_squared_error: 1826.2877\n",
            "Epoch 42/100\n",
            "390/390 [==============================] - 2s 6ms/step - loss: 41184544.0000 - mean_absolute_error: 4564.1401 - root_mean_squared_error: 6417.5186 - val_loss: 3284097.2500 - val_mean_absolute_error: 1408.6799 - val_root_mean_squared_error: 1812.2079\n",
            "Epoch 43/100\n",
            "390/390 [==============================] - 2s 5ms/step - loss: 40487616.0000 - mean_absolute_error: 4552.8823 - root_mean_squared_error: 6362.9878 - val_loss: 4367250.0000 - val_mean_absolute_error: 1652.2014 - val_root_mean_squared_error: 2089.7966\n",
            "Epoch 44/100\n",
            "390/390 [==============================] - 2s 4ms/step - loss: 42001600.0000 - mean_absolute_error: 4623.7153 - root_mean_squared_error: 6480.8643 - val_loss: 3645602.7500 - val_mean_absolute_error: 1485.7678 - val_root_mean_squared_error: 1909.3462\n",
            "Epoch 45/100\n",
            "390/390 [==============================] - 2s 5ms/step - loss: 41168288.0000 - mean_absolute_error: 4597.0186 - root_mean_squared_error: 6416.2520 - val_loss: 3968822.0000 - val_mean_absolute_error: 1557.3668 - val_root_mean_squared_error: 1992.1903\n",
            "Epoch 46/100\n",
            "390/390 [==============================] - 2s 5ms/step - loss: 41049896.0000 - mean_absolute_error: 4537.2046 - root_mean_squared_error: 6407.0190 - val_loss: 2178983.7500 - val_mean_absolute_error: 1094.4587 - val_root_mean_squared_error: 1476.1381\n",
            "Epoch 47/100\n",
            "390/390 [==============================] - 2s 4ms/step - loss: 40731772.0000 - mean_absolute_error: 4562.4668 - root_mean_squared_error: 6382.1450 - val_loss: 3691353.7500 - val_mean_absolute_error: 1492.6421 - val_root_mean_squared_error: 1921.2896\n",
            "Epoch 48/100\n",
            "390/390 [==============================] - 1s 3ms/step - loss: 40894628.0000 - mean_absolute_error: 4575.6152 - root_mean_squared_error: 6394.8906 - val_loss: 2882692.2500 - val_mean_absolute_error: 1295.8517 - val_root_mean_squared_error: 1697.8492\n",
            "Epoch 49/100\n",
            "390/390 [==============================] - 1s 4ms/step - loss: 40216612.0000 - mean_absolute_error: 4539.3188 - root_mean_squared_error: 6341.6567 - val_loss: 4369018.5000 - val_mean_absolute_error: 1648.7377 - val_root_mean_squared_error: 2090.2197\n",
            "Epoch 50/100\n",
            "390/390 [==============================] - 2s 4ms/step - loss: 41324860.0000 - mean_absolute_error: 4591.9434 - root_mean_squared_error: 6428.4414 - val_loss: 4957151.0000 - val_mean_absolute_error: 1778.6921 - val_root_mean_squared_error: 2226.4661\n",
            "Epoch 51/100\n",
            "390/390 [==============================] - 2s 4ms/step - loss: 41180180.0000 - mean_absolute_error: 4598.4487 - root_mean_squared_error: 6417.1787 - val_loss: 3921569.7500 - val_mean_absolute_error: 1542.7230 - val_root_mean_squared_error: 1980.2954\n",
            "Epoch 52/100\n",
            "390/390 [==============================] - 2s 4ms/step - loss: 41659964.0000 - mean_absolute_error: 4582.9673 - root_mean_squared_error: 6454.4531 - val_loss: 3668668.2500 - val_mean_absolute_error: 1492.1344 - val_root_mean_squared_error: 1915.3768\n",
            "Epoch 53/100\n",
            "390/390 [==============================] - 1s 3ms/step - loss: 40815160.0000 - mean_absolute_error: 4571.5513 - root_mean_squared_error: 6388.6743 - val_loss: 4229439.0000 - val_mean_absolute_error: 1638.4397 - val_root_mean_squared_error: 2056.5601\n",
            "Epoch 54/100\n",
            "390/390 [==============================] - 2s 5ms/step - loss: 41550456.0000 - mean_absolute_error: 4595.0576 - root_mean_squared_error: 6445.9644 - val_loss: 3275972.5000 - val_mean_absolute_error: 1422.4951 - val_root_mean_squared_error: 1809.9647\n",
            "Epoch 55/100\n",
            "390/390 [==============================] - 2s 5ms/step - loss: 39822492.0000 - mean_absolute_error: 4524.1709 - root_mean_squared_error: 6310.5063 - val_loss: 5022015.0000 - val_mean_absolute_error: 1795.4155 - val_root_mean_squared_error: 2240.9854\n",
            "Epoch 56/100\n",
            "390/390 [==============================] - 2s 4ms/step - loss: 41128652.0000 - mean_absolute_error: 4551.6084 - root_mean_squared_error: 6413.1626 - val_loss: 4681795.5000 - val_mean_absolute_error: 1737.9663 - val_root_mean_squared_error: 2163.7456\n",
            "Epoch 57/100\n",
            "390/390 [==============================] - 1s 3ms/step - loss: 41541648.0000 - mean_absolute_error: 4609.6675 - root_mean_squared_error: 6445.2812 - val_loss: 5046161.5000 - val_mean_absolute_error: 1816.2264 - val_root_mean_squared_error: 2246.3662\n",
            "Epoch 58/100\n",
            "390/390 [==============================] - 1s 3ms/step - loss: 40696040.0000 - mean_absolute_error: 4544.4688 - root_mean_squared_error: 6379.3447 - val_loss: 3688290.5000 - val_mean_absolute_error: 1514.4463 - val_root_mean_squared_error: 1920.4923\n",
            "Epoch 59/100\n",
            "390/390 [==============================] - 1s 3ms/step - loss: 40695200.0000 - mean_absolute_error: 4573.9263 - root_mean_squared_error: 6379.2788 - val_loss: 4379066.0000 - val_mean_absolute_error: 1666.9957 - val_root_mean_squared_error: 2092.6218\n",
            "Epoch 60/100\n",
            "390/390 [==============================] - 1s 3ms/step - loss: 41503408.0000 - mean_absolute_error: 4589.0342 - root_mean_squared_error: 6442.3140 - val_loss: 3568137.0000 - val_mean_absolute_error: 1469.7933 - val_root_mean_squared_error: 1888.9513\n",
            "Epoch 61/100\n",
            "390/390 [==============================] - 1s 3ms/step - loss: 41798920.0000 - mean_absolute_error: 4602.1606 - root_mean_squared_error: 6465.2085 - val_loss: 3059231.0000 - val_mean_absolute_error: 1348.1052 - val_root_mean_squared_error: 1749.0658\n",
            "Epoch 62/100\n",
            "390/390 [==============================] - 1s 4ms/step - loss: 40704520.0000 - mean_absolute_error: 4546.7095 - root_mean_squared_error: 6380.0093 - val_loss: 4202719.5000 - val_mean_absolute_error: 1616.4628 - val_root_mean_squared_error: 2050.0535\n",
            "Epoch 63/100\n",
            "390/390 [==============================] - 2s 4ms/step - loss: 40259468.0000 - mean_absolute_error: 4533.1455 - root_mean_squared_error: 6345.0347 - val_loss: 4483258.5000 - val_mean_absolute_error: 1698.0573 - val_root_mean_squared_error: 2117.3706\n",
            "Epoch 64/100\n",
            "390/390 [==============================] - 2s 6ms/step - loss: 42636932.0000 - mean_absolute_error: 4615.5864 - root_mean_squared_error: 6529.6963 - val_loss: 3955840.2500 - val_mean_absolute_error: 1558.1908 - val_root_mean_squared_error: 1988.9294\n",
            "Epoch 65/100\n",
            "390/390 [==============================] - 1s 4ms/step - loss: 40813628.0000 - mean_absolute_error: 4546.7310 - root_mean_squared_error: 6388.5547 - val_loss: 4266575.0000 - val_mean_absolute_error: 1654.7448 - val_root_mean_squared_error: 2065.5688\n",
            "Epoch 66/100\n",
            "390/390 [==============================] - 1s 3ms/step - loss: 42074532.0000 - mean_absolute_error: 4635.3530 - root_mean_squared_error: 6486.4883 - val_loss: 2887868.5000 - val_mean_absolute_error: 1298.7307 - val_root_mean_squared_error: 1699.3729\n",
            "Epoch 67/100\n",
            "390/390 [==============================] - 1s 3ms/step - loss: 40250348.0000 - mean_absolute_error: 4536.9756 - root_mean_squared_error: 6344.3164 - val_loss: 3850348.7500 - val_mean_absolute_error: 1528.6279 - val_root_mean_squared_error: 1962.2306\n",
            "Epoch 68/100\n",
            "390/390 [==============================] - 1s 3ms/step - loss: 41489672.0000 - mean_absolute_error: 4595.0869 - root_mean_squared_error: 6441.2476 - val_loss: 3573924.0000 - val_mean_absolute_error: 1472.5133 - val_root_mean_squared_error: 1890.4824\n",
            "Epoch 69/100\n",
            "390/390 [==============================] - 1s 3ms/step - loss: 40768248.0000 - mean_absolute_error: 4551.0654 - root_mean_squared_error: 6385.0020 - val_loss: 3780820.7500 - val_mean_absolute_error: 1549.7261 - val_root_mean_squared_error: 1944.4332\n",
            "Epoch 70/100\n",
            "390/390 [==============================] - 2s 4ms/step - loss: 40536300.0000 - mean_absolute_error: 4543.8086 - root_mean_squared_error: 6366.8125 - val_loss: 3496167.5000 - val_mean_absolute_error: 1438.7161 - val_root_mean_squared_error: 1869.8041\n",
            "Epoch 71/100\n",
            "390/390 [==============================] - 1s 4ms/step - loss: 41470304.0000 - mean_absolute_error: 4599.4595 - root_mean_squared_error: 6439.7441 - val_loss: 4729515.5000 - val_mean_absolute_error: 1729.5323 - val_root_mean_squared_error: 2174.7449\n",
            "Epoch 72/100\n",
            "390/390 [==============================] - 2s 5ms/step - loss: 40596496.0000 - mean_absolute_error: 4538.6948 - root_mean_squared_error: 6371.5381 - val_loss: 3602426.5000 - val_mean_absolute_error: 1487.9613 - val_root_mean_squared_error: 1898.0060\n",
            "Epoch 73/100\n",
            "390/390 [==============================] - 2s 6ms/step - loss: 41249416.0000 - mean_absolute_error: 4577.6626 - root_mean_squared_error: 6422.5708 - val_loss: 3844543.5000 - val_mean_absolute_error: 1543.2825 - val_root_mean_squared_error: 1960.7507\n",
            "Epoch 74/100\n",
            "390/390 [==============================] - 1s 4ms/step - loss: 40620932.0000 - mean_absolute_error: 4534.1182 - root_mean_squared_error: 6373.4551 - val_loss: 3348868.2500 - val_mean_absolute_error: 1422.0217 - val_root_mean_squared_error: 1829.9913\n",
            "Epoch 75/100\n",
            "390/390 [==============================] - 1s 4ms/step - loss: 41516828.0000 - mean_absolute_error: 4599.1973 - root_mean_squared_error: 6443.3555 - val_loss: 3590013.7500 - val_mean_absolute_error: 1507.7290 - val_root_mean_squared_error: 1894.7332\n",
            "Epoch 76/100\n",
            "390/390 [==============================] - 2s 4ms/step - loss: 40640156.0000 - mean_absolute_error: 4550.7852 - root_mean_squared_error: 6374.9634 - val_loss: 4497596.0000 - val_mean_absolute_error: 1685.0852 - val_root_mean_squared_error: 2120.7537\n",
            "Epoch 77/100\n",
            "390/390 [==============================] - 2s 4ms/step - loss: 41617392.0000 - mean_absolute_error: 4603.3228 - root_mean_squared_error: 6451.1543 - val_loss: 4174096.0000 - val_mean_absolute_error: 1622.0404 - val_root_mean_squared_error: 2043.0604\n",
            "Epoch 78/100\n",
            "390/390 [==============================] - 1s 4ms/step - loss: 41309916.0000 - mean_absolute_error: 4561.5117 - root_mean_squared_error: 6427.2788 - val_loss: 3052408.2500 - val_mean_absolute_error: 1339.1533 - val_root_mean_squared_error: 1747.1143\n",
            "Epoch 79/100\n",
            "390/390 [==============================] - 1s 4ms/step - loss: 39748344.0000 - mean_absolute_error: 4508.0278 - root_mean_squared_error: 6304.6289 - val_loss: 3641325.0000 - val_mean_absolute_error: 1504.1951 - val_root_mean_squared_error: 1908.2256\n",
            "Epoch 80/100\n",
            "390/390 [==============================] - 2s 5ms/step - loss: 40234436.0000 - mean_absolute_error: 4543.1484 - root_mean_squared_error: 6343.0620 - val_loss: 4112010.2500 - val_mean_absolute_error: 1603.6327 - val_root_mean_squared_error: 2027.8092\n",
            "Epoch 81/100\n",
            "390/390 [==============================] - 2s 6ms/step - loss: 40080284.0000 - mean_absolute_error: 4532.7178 - root_mean_squared_error: 6330.8989 - val_loss: 3160288.2500 - val_mean_absolute_error: 1366.4016 - val_root_mean_squared_error: 1777.7200\n",
            "Epoch 82/100\n",
            "390/390 [==============================] - 2s 4ms/step - loss: 40099656.0000 - mean_absolute_error: 4479.7715 - root_mean_squared_error: 6332.4287 - val_loss: 3325399.7500 - val_mean_absolute_error: 1407.5615 - val_root_mean_squared_error: 1823.5679\n",
            "Epoch 83/100\n",
            "390/390 [==============================] - 2s 4ms/step - loss: 39100892.0000 - mean_absolute_error: 4468.1763 - root_mean_squared_error: 6253.0708 - val_loss: 3934993.0000 - val_mean_absolute_error: 1559.0520 - val_root_mean_squared_error: 1983.6816\n",
            "Epoch 84/100\n",
            "390/390 [==============================] - 2s 4ms/step - loss: 40753956.0000 - mean_absolute_error: 4553.1846 - root_mean_squared_error: 6383.8823 - val_loss: 3733325.7500 - val_mean_absolute_error: 1513.1355 - val_root_mean_squared_error: 1932.1816\n",
            "Epoch 85/100\n",
            "390/390 [==============================] - 1s 3ms/step - loss: 40022628.0000 - mean_absolute_error: 4484.0503 - root_mean_squared_error: 6326.3438 - val_loss: 4670992.5000 - val_mean_absolute_error: 1711.9510 - val_root_mean_squared_error: 2161.2478\n",
            "Epoch 86/100\n",
            "390/390 [==============================] - 1s 4ms/step - loss: 41042364.0000 - mean_absolute_error: 4592.6958 - root_mean_squared_error: 6406.4316 - val_loss: 3495245.2500 - val_mean_absolute_error: 1424.4387 - val_root_mean_squared_error: 1869.5575\n",
            "Epoch 87/100\n",
            "390/390 [==============================] - 2s 4ms/step - loss: 40470264.0000 - mean_absolute_error: 4548.3750 - root_mean_squared_error: 6361.6245 - val_loss: 4356904.5000 - val_mean_absolute_error: 1667.1000 - val_root_mean_squared_error: 2087.3198\n",
            "Epoch 88/100\n",
            "390/390 [==============================] - 2s 5ms/step - loss: 41770724.0000 - mean_absolute_error: 4610.4268 - root_mean_squared_error: 6463.0273 - val_loss: 4074427.7500 - val_mean_absolute_error: 1584.9434 - val_root_mean_squared_error: 2018.5211\n",
            "Epoch 89/100\n",
            "390/390 [==============================] - 2s 6ms/step - loss: 40440908.0000 - mean_absolute_error: 4515.2178 - root_mean_squared_error: 6359.3164 - val_loss: 2949550.2500 - val_mean_absolute_error: 1304.5762 - val_root_mean_squared_error: 1717.4254\n",
            "Epoch 90/100\n",
            "390/390 [==============================] - 1s 3ms/step - loss: 42127184.0000 - mean_absolute_error: 4608.4189 - root_mean_squared_error: 6490.5459 - val_loss: 4163810.7500 - val_mean_absolute_error: 1619.8818 - val_root_mean_squared_error: 2040.5417\n",
            "Epoch 91/100\n",
            "390/390 [==============================] - 1s 4ms/step - loss: 41419308.0000 - mean_absolute_error: 4560.8599 - root_mean_squared_error: 6435.7832 - val_loss: 4703420.5000 - val_mean_absolute_error: 1736.9972 - val_root_mean_squared_error: 2168.7371\n",
            "Epoch 92/100\n",
            "390/390 [==============================] - 2s 4ms/step - loss: 40794176.0000 - mean_absolute_error: 4535.5562 - root_mean_squared_error: 6387.0317 - val_loss: 3830487.7500 - val_mean_absolute_error: 1536.4452 - val_root_mean_squared_error: 1957.1632\n",
            "Epoch 93/100\n",
            "390/390 [==============================] - 2s 4ms/step - loss: 40106300.0000 - mean_absolute_error: 4521.5122 - root_mean_squared_error: 6332.9536 - val_loss: 3074370.0000 - val_mean_absolute_error: 1344.6163 - val_root_mean_squared_error: 1753.3882\n",
            "Epoch 94/100\n",
            "390/390 [==============================] - 2s 5ms/step - loss: 40467228.0000 - mean_absolute_error: 4533.4492 - root_mean_squared_error: 6361.3857 - val_loss: 4750315.0000 - val_mean_absolute_error: 1748.6948 - val_root_mean_squared_error: 2179.5217\n",
            "Epoch 95/100\n",
            "390/390 [==============================] - 2s 5ms/step - loss: 42020824.0000 - mean_absolute_error: 4619.7534 - root_mean_squared_error: 6482.3472 - val_loss: 4074972.0000 - val_mean_absolute_error: 1596.5675 - val_root_mean_squared_error: 2018.6560\n",
            "Epoch 96/100\n",
            "390/390 [==============================] - 2s 6ms/step - loss: 40478796.0000 - mean_absolute_error: 4554.4746 - root_mean_squared_error: 6362.2949 - val_loss: 3573171.5000 - val_mean_absolute_error: 1477.8486 - val_root_mean_squared_error: 1890.2834\n",
            "Epoch 97/100\n",
            "390/390 [==============================] - 2s 6ms/step - loss: 40593252.0000 - mean_absolute_error: 4565.7520 - root_mean_squared_error: 6371.2832 - val_loss: 3846151.5000 - val_mean_absolute_error: 1538.1339 - val_root_mean_squared_error: 1961.1608\n",
            "Epoch 98/100\n",
            "390/390 [==============================] - 2s 4ms/step - loss: 39678400.0000 - mean_absolute_error: 4501.7314 - root_mean_squared_error: 6299.0791 - val_loss: 4355670.5000 - val_mean_absolute_error: 1647.2823 - val_root_mean_squared_error: 2087.0244\n",
            "Epoch 99/100\n",
            "390/390 [==============================] - 2s 4ms/step - loss: 40753184.0000 - mean_absolute_error: 4547.5366 - root_mean_squared_error: 6383.8223 - val_loss: 2472521.7500 - val_mean_absolute_error: 1205.1592 - val_root_mean_squared_error: 1572.4254\n",
            "Epoch 100/100\n",
            "390/390 [==============================] - 2s 4ms/step - loss: 40045920.0000 - mean_absolute_error: 4537.1274 - root_mean_squared_error: 6328.1846 - val_loss: 3401868.2500 - val_mean_absolute_error: 1429.2738 - val_root_mean_squared_error: 1844.4154\n"
          ]
        }
      ]
    },
    {
      "cell_type": "code",
      "source": [
        "y_t2 = model_2.predict(Xtest_tf)"
      ],
      "metadata": {
        "colab": {
          "base_uri": "https://localhost:8080/"
        },
        "id": "Vsy1UHuVH0Zm",
        "outputId": "5e8faf06-1987-4aca-c30c-45d8510c889c"
      },
      "execution_count": null,
      "outputs": [
        {
          "output_type": "stream",
          "name": "stdout",
          "text": [
            "173/173 [==============================] - 1s 4ms/step\n"
          ]
        }
      ]
    },
    {
      "cell_type": "code",
      "source": [
        "# Model Sequential\n",
        "model_3 = Sequential()\n",
        "\n",
        "# Hidden layers\n",
        "model_3.add(Dense(37, input_dim = X_train_tf.shape[1], activation='relu')),\n",
        "BatchNormalization(),\n",
        "model_3.add(Dropout(.2)),\n",
        "model_3.add(Dense(25, activation='relu')),\n",
        "BatchNormalization(),\n",
        "model_3.add(Dropout(.2)),\n",
        "model_3.add(Dense(10, activation='relu')),\n",
        "BatchNormalization(),\n",
        "model_3.add(Dropout(.2)),\n",
        "\n",
        "# Output layer\n",
        "model_3.add(Dense(1, activation='linear'))\n",
        "\n",
        "# Compile the model\n",
        "model_3.compile(loss='mse', optimizer='adam', metrics=[metrics.MeanAbsoluteError(), metrics.RootMeanSquaredError()])\n",
        "\n",
        "# Fit the model\n",
        "history = model_3.fit(X_train_tf, y_train,\n",
        "                    validation_data = (X_test_tf, y_test),\n",
        "                    epochs = 100,\n",
        "                    batch_size = 32)\n"
      ],
      "metadata": {
        "colab": {
          "base_uri": "https://localhost:8080/"
        },
        "id": "uAkheiZbH38R",
        "outputId": "cc5ed0a2-f60a-4cd4-d597-c82aced59d71"
      },
      "execution_count": null,
      "outputs": [
        {
          "output_type": "stream",
          "name": "stdout",
          "text": [
            "Epoch 1/100\n",
            "390/390 [==============================] - 6s 9ms/step - loss: 570875456.0000 - mean_absolute_error: 20953.7969 - root_mean_squared_error: 23893.0000 - val_loss: 339055232.0000 - val_mean_absolute_error: 15544.1592 - val_root_mean_squared_error: 18413.4531\n",
            "Epoch 2/100\n",
            "390/390 [==============================] - 2s 4ms/step - loss: 122795136.0000 - mean_absolute_error: 8376.8486 - root_mean_squared_error: 11081.2969 - val_loss: 33762952.0000 - val_mean_absolute_error: 4534.2773 - val_root_mean_squared_error: 5810.5898\n",
            "Epoch 3/100\n",
            "390/390 [==============================] - 1s 4ms/step - loss: 70014264.0000 - mean_absolute_error: 6345.2153 - root_mean_squared_error: 8367.4531 - val_loss: 22213322.0000 - val_mean_absolute_error: 3685.1179 - val_root_mean_squared_error: 4713.1011\n",
            "Epoch 4/100\n",
            "390/390 [==============================] - 2s 4ms/step - loss: 58470464.0000 - mean_absolute_error: 5725.2939 - root_mean_squared_error: 7646.5981 - val_loss: 13869932.0000 - val_mean_absolute_error: 2914.3247 - val_root_mean_squared_error: 3724.2358\n",
            "Epoch 5/100\n",
            "390/390 [==============================] - 1s 4ms/step - loss: 49486900.0000 - mean_absolute_error: 5193.5059 - root_mean_squared_error: 7034.6924 - val_loss: 8073587.5000 - val_mean_absolute_error: 2198.9204 - val_root_mean_squared_error: 2841.4060\n",
            "Epoch 6/100\n",
            "390/390 [==============================] - 2s 4ms/step - loss: 43435220.0000 - mean_absolute_error: 4822.0898 - root_mean_squared_error: 6590.5400 - val_loss: 5948910.0000 - val_mean_absolute_error: 1842.3251 - val_root_mean_squared_error: 2439.0388\n",
            "Epoch 7/100\n",
            "390/390 [==============================] - 2s 6ms/step - loss: 41157984.0000 - mean_absolute_error: 4668.1338 - root_mean_squared_error: 6415.4487 - val_loss: 4083787.2500 - val_mean_absolute_error: 1499.0846 - val_root_mean_squared_error: 2020.8383\n",
            "Epoch 8/100\n",
            "390/390 [==============================] - 2s 5ms/step - loss: 39449748.0000 - mean_absolute_error: 4554.0591 - root_mean_squared_error: 6280.9033 - val_loss: 4238370.0000 - val_mean_absolute_error: 1559.5604 - val_root_mean_squared_error: 2058.7302\n",
            "Epoch 9/100\n",
            "390/390 [==============================] - 2s 5ms/step - loss: 38685384.0000 - mean_absolute_error: 4480.5405 - root_mean_squared_error: 6219.7573 - val_loss: 3092559.2500 - val_mean_absolute_error: 1307.8436 - val_root_mean_squared_error: 1758.5674\n",
            "Epoch 10/100\n",
            "390/390 [==============================] - 2s 4ms/step - loss: 39664520.0000 - mean_absolute_error: 4506.7583 - root_mean_squared_error: 6297.9775 - val_loss: 3038293.0000 - val_mean_absolute_error: 1286.3345 - val_root_mean_squared_error: 1743.0699\n",
            "Epoch 11/100\n",
            "390/390 [==============================] - 2s 4ms/step - loss: 37613396.0000 - mean_absolute_error: 4429.5620 - root_mean_squared_error: 6132.9761 - val_loss: 3027814.7500 - val_mean_absolute_error: 1292.2271 - val_root_mean_squared_error: 1740.0618\n",
            "Epoch 12/100\n",
            "390/390 [==============================] - 2s 5ms/step - loss: 38950244.0000 - mean_absolute_error: 4482.0376 - root_mean_squared_error: 6241.0132 - val_loss: 3547857.5000 - val_mean_absolute_error: 1422.5912 - val_root_mean_squared_error: 1883.5757\n",
            "Epoch 13/100\n",
            "390/390 [==============================] - 2s 5ms/step - loss: 37605220.0000 - mean_absolute_error: 4415.3555 - root_mean_squared_error: 6132.3096 - val_loss: 2903794.0000 - val_mean_absolute_error: 1266.6317 - val_root_mean_squared_error: 1704.0522\n",
            "Epoch 14/100\n",
            "390/390 [==============================] - 2s 6ms/step - loss: 38377640.0000 - mean_absolute_error: 4451.9287 - root_mean_squared_error: 6194.9688 - val_loss: 3157572.5000 - val_mean_absolute_error: 1347.5603 - val_root_mean_squared_error: 1776.9559\n",
            "Epoch 15/100\n",
            "390/390 [==============================] - 2s 6ms/step - loss: 38568292.0000 - mean_absolute_error: 4448.9849 - root_mean_squared_error: 6210.3374 - val_loss: 3002625.2500 - val_mean_absolute_error: 1298.9742 - val_root_mean_squared_error: 1732.8085\n",
            "Epoch 16/100\n",
            "390/390 [==============================] - 2s 4ms/step - loss: 38731280.0000 - mean_absolute_error: 4465.2334 - root_mean_squared_error: 6223.4458 - val_loss: 3252279.2500 - val_mean_absolute_error: 1384.7432 - val_root_mean_squared_error: 1803.4077\n",
            "Epoch 17/100\n",
            "390/390 [==============================] - 2s 5ms/step - loss: 37098892.0000 - mean_absolute_error: 4397.2202 - root_mean_squared_error: 6090.8857 - val_loss: 3147027.5000 - val_mean_absolute_error: 1345.0304 - val_root_mean_squared_error: 1773.9863\n",
            "Epoch 18/100\n",
            "390/390 [==============================] - 2s 4ms/step - loss: 38990228.0000 - mean_absolute_error: 4482.5005 - root_mean_squared_error: 6244.2153 - val_loss: 3311812.0000 - val_mean_absolute_error: 1384.3362 - val_root_mean_squared_error: 1819.8385\n",
            "Epoch 19/100\n",
            "390/390 [==============================] - 1s 4ms/step - loss: 37882812.0000 - mean_absolute_error: 4424.6021 - root_mean_squared_error: 6154.9014 - val_loss: 3185374.5000 - val_mean_absolute_error: 1365.4216 - val_root_mean_squared_error: 1784.7617\n",
            "Epoch 20/100\n",
            "390/390 [==============================] - 2s 4ms/step - loss: 38966660.0000 - mean_absolute_error: 4501.8066 - root_mean_squared_error: 6242.3281 - val_loss: 3555531.7500 - val_mean_absolute_error: 1447.7255 - val_root_mean_squared_error: 1885.6118\n",
            "Epoch 21/100\n",
            "390/390 [==============================] - 2s 5ms/step - loss: 39517192.0000 - mean_absolute_error: 4513.3110 - root_mean_squared_error: 6286.2700 - val_loss: 3989924.2500 - val_mean_absolute_error: 1567.6637 - val_root_mean_squared_error: 1997.4795\n",
            "Epoch 22/100\n",
            "390/390 [==============================] - 3s 8ms/step - loss: 39010152.0000 - mean_absolute_error: 4484.8047 - root_mean_squared_error: 6245.8105 - val_loss: 3190845.2500 - val_mean_absolute_error: 1355.2675 - val_root_mean_squared_error: 1786.2937\n",
            "Epoch 23/100\n",
            "390/390 [==============================] - 2s 4ms/step - loss: 38875568.0000 - mean_absolute_error: 4483.3447 - root_mean_squared_error: 6235.0273 - val_loss: 4138237.0000 - val_mean_absolute_error: 1594.3147 - val_root_mean_squared_error: 2034.2657\n",
            "Epoch 24/100\n",
            "390/390 [==============================] - 1s 3ms/step - loss: 37807488.0000 - mean_absolute_error: 4446.4126 - root_mean_squared_error: 6148.7793 - val_loss: 3208134.2500 - val_mean_absolute_error: 1379.6365 - val_root_mean_squared_error: 1791.1266\n",
            "Epoch 25/100\n",
            "390/390 [==============================] - 1s 4ms/step - loss: 38368728.0000 - mean_absolute_error: 4472.9385 - root_mean_squared_error: 6194.2495 - val_loss: 2573747.2500 - val_mean_absolute_error: 1202.6064 - val_root_mean_squared_error: 1604.2903\n",
            "Epoch 26/100\n",
            "390/390 [==============================] - 1s 4ms/step - loss: 38430684.0000 - mean_absolute_error: 4459.0405 - root_mean_squared_error: 6199.2485 - val_loss: 4077213.0000 - val_mean_absolute_error: 1591.2490 - val_root_mean_squared_error: 2019.2109\n",
            "Epoch 27/100\n",
            "390/390 [==============================] - 1s 4ms/step - loss: 38339032.0000 - mean_absolute_error: 4443.2837 - root_mean_squared_error: 6191.8521 - val_loss: 2718138.2500 - val_mean_absolute_error: 1221.0598 - val_root_mean_squared_error: 1648.6777\n",
            "Epoch 28/100\n",
            "390/390 [==============================] - 2s 5ms/step - loss: 38839464.0000 - mean_absolute_error: 4475.6841 - root_mean_squared_error: 6232.1313 - val_loss: 2838826.0000 - val_mean_absolute_error: 1273.3827 - val_root_mean_squared_error: 1684.8816\n",
            "Epoch 29/100\n",
            "390/390 [==============================] - 2s 6ms/step - loss: 38571396.0000 - mean_absolute_error: 4459.2090 - root_mean_squared_error: 6210.5874 - val_loss: 3594814.7500 - val_mean_absolute_error: 1494.7335 - val_root_mean_squared_error: 1895.9996\n",
            "Epoch 30/100\n",
            "390/390 [==============================] - 2s 5ms/step - loss: 40551252.0000 - mean_absolute_error: 4535.8926 - root_mean_squared_error: 6367.9863 - val_loss: 2966654.0000 - val_mean_absolute_error: 1322.6049 - val_root_mean_squared_error: 1722.3977\n",
            "Epoch 31/100\n",
            "390/390 [==============================] - 1s 4ms/step - loss: 38236472.0000 - mean_absolute_error: 4458.3809 - root_mean_squared_error: 6183.5645 - val_loss: 4138334.2500 - val_mean_absolute_error: 1603.0848 - val_root_mean_squared_error: 2034.2897\n",
            "Epoch 32/100\n",
            "390/390 [==============================] - 2s 4ms/step - loss: 37905168.0000 - mean_absolute_error: 4424.3242 - root_mean_squared_error: 6156.7173 - val_loss: 5485543.5000 - val_mean_absolute_error: 1900.3988 - val_root_mean_squared_error: 2342.1238\n",
            "Epoch 33/100\n",
            "390/390 [==============================] - 2s 4ms/step - loss: 36755164.0000 - mean_absolute_error: 4377.4038 - root_mean_squared_error: 6062.6035 - val_loss: 2802375.7500 - val_mean_absolute_error: 1253.6262 - val_root_mean_squared_error: 1674.0298\n",
            "Epoch 34/100\n",
            "390/390 [==============================] - 2s 4ms/step - loss: 37478040.0000 - mean_absolute_error: 4401.2495 - root_mean_squared_error: 6121.9312 - val_loss: 4206698.5000 - val_mean_absolute_error: 1625.1257 - val_root_mean_squared_error: 2051.0237\n",
            "Epoch 35/100\n",
            "390/390 [==============================] - 2s 5ms/step - loss: 37189424.0000 - mean_absolute_error: 4382.1533 - root_mean_squared_error: 6098.3130 - val_loss: 4427959.0000 - val_mean_absolute_error: 1668.6095 - val_root_mean_squared_error: 2104.2717\n",
            "Epoch 36/100\n",
            "390/390 [==============================] - 2s 4ms/step - loss: 37608340.0000 - mean_absolute_error: 4431.4229 - root_mean_squared_error: 6132.5640 - val_loss: 2925228.0000 - val_mean_absolute_error: 1304.3318 - val_root_mean_squared_error: 1710.3298\n",
            "Epoch 37/100\n",
            "390/390 [==============================] - 3s 7ms/step - loss: 38086460.0000 - mean_absolute_error: 4429.6416 - root_mean_squared_error: 6171.4229 - val_loss: 2478018.0000 - val_mean_absolute_error: 1191.4724 - val_root_mean_squared_error: 1574.1721\n",
            "Epoch 38/100\n",
            "390/390 [==============================] - 2s 5ms/step - loss: 38397580.0000 - mean_absolute_error: 4457.8945 - root_mean_squared_error: 6196.5781 - val_loss: 3047198.2500 - val_mean_absolute_error: 1328.4055 - val_root_mean_squared_error: 1745.6226\n",
            "Epoch 39/100\n",
            "390/390 [==============================] - 2s 4ms/step - loss: 37673340.0000 - mean_absolute_error: 4418.2080 - root_mean_squared_error: 6137.8613 - val_loss: 2546022.0000 - val_mean_absolute_error: 1202.6470 - val_root_mean_squared_error: 1595.6259\n",
            "Epoch 40/100\n",
            "390/390 [==============================] - 2s 4ms/step - loss: 36739116.0000 - mean_absolute_error: 4342.3184 - root_mean_squared_error: 6061.2803 - val_loss: 3087951.5000 - val_mean_absolute_error: 1351.1550 - val_root_mean_squared_error: 1757.2568\n",
            "Epoch 41/100\n",
            "390/390 [==============================] - 1s 4ms/step - loss: 38696004.0000 - mean_absolute_error: 4439.4976 - root_mean_squared_error: 6220.6113 - val_loss: 3598615.0000 - val_mean_absolute_error: 1486.6221 - val_root_mean_squared_error: 1897.0016\n",
            "Epoch 42/100\n",
            "390/390 [==============================] - 1s 3ms/step - loss: 37607848.0000 - mean_absolute_error: 4404.9385 - root_mean_squared_error: 6132.5239 - val_loss: 2496223.0000 - val_mean_absolute_error: 1194.9413 - val_root_mean_squared_error: 1579.9440\n",
            "Epoch 43/100\n",
            "390/390 [==============================] - 1s 3ms/step - loss: 38195532.0000 - mean_absolute_error: 4454.8032 - root_mean_squared_error: 6180.2534 - val_loss: 3400393.7500 - val_mean_absolute_error: 1419.5784 - val_root_mean_squared_error: 1844.0156\n",
            "Epoch 44/100\n",
            "390/390 [==============================] - 1s 3ms/step - loss: 35995824.0000 - mean_absolute_error: 4319.0645 - root_mean_squared_error: 5999.6519 - val_loss: 2812217.5000 - val_mean_absolute_error: 1262.8333 - val_root_mean_squared_error: 1676.9668\n",
            "Epoch 45/100\n",
            "390/390 [==============================] - 1s 3ms/step - loss: 37088712.0000 - mean_absolute_error: 4369.7520 - root_mean_squared_error: 6090.0503 - val_loss: 3505159.2500 - val_mean_absolute_error: 1443.1505 - val_root_mean_squared_error: 1872.2070\n",
            "Epoch 46/100\n",
            "390/390 [==============================] - 2s 6ms/step - loss: 38078868.0000 - mean_absolute_error: 4409.6719 - root_mean_squared_error: 6170.8076 - val_loss: 2643479.0000 - val_mean_absolute_error: 1207.0291 - val_root_mean_squared_error: 1625.8779\n",
            "Epoch 47/100\n",
            "390/390 [==============================] - 2s 4ms/step - loss: 37960548.0000 - mean_absolute_error: 4398.3711 - root_mean_squared_error: 6161.2134 - val_loss: 4424391.5000 - val_mean_absolute_error: 1661.8438 - val_root_mean_squared_error: 2103.4238\n",
            "Epoch 48/100\n",
            "390/390 [==============================] - 1s 3ms/step - loss: 37521472.0000 - mean_absolute_error: 4384.6099 - root_mean_squared_error: 6125.4771 - val_loss: 3296272.2500 - val_mean_absolute_error: 1391.0353 - val_root_mean_squared_error: 1815.5638\n",
            "Epoch 49/100\n",
            "390/390 [==============================] - 1s 3ms/step - loss: 36915728.0000 - mean_absolute_error: 4345.6582 - root_mean_squared_error: 6075.8315 - val_loss: 2844139.5000 - val_mean_absolute_error: 1287.7124 - val_root_mean_squared_error: 1686.4576\n",
            "Epoch 50/100\n",
            "390/390 [==============================] - 1s 3ms/step - loss: 37398316.0000 - mean_absolute_error: 4388.9292 - root_mean_squared_error: 6115.4160 - val_loss: 3021660.7500 - val_mean_absolute_error: 1336.2006 - val_root_mean_squared_error: 1738.2925\n",
            "Epoch 51/100\n",
            "390/390 [==============================] - 1s 3ms/step - loss: 37352488.0000 - mean_absolute_error: 4405.6943 - root_mean_squared_error: 6111.6680 - val_loss: 3100057.7500 - val_mean_absolute_error: 1336.2194 - val_root_mean_squared_error: 1760.6981\n",
            "Epoch 52/100\n",
            "390/390 [==============================] - 1s 3ms/step - loss: 36616960.0000 - mean_absolute_error: 4322.8291 - root_mean_squared_error: 6051.1948 - val_loss: 4138666.0000 - val_mean_absolute_error: 1619.5247 - val_root_mean_squared_error: 2034.3712\n",
            "Epoch 53/100\n",
            "390/390 [==============================] - 1s 3ms/step - loss: 37940204.0000 - mean_absolute_error: 4407.2847 - root_mean_squared_error: 6159.5620 - val_loss: 2849782.5000 - val_mean_absolute_error: 1295.2653 - val_root_mean_squared_error: 1688.1299\n",
            "Epoch 54/100\n",
            "390/390 [==============================] - 1s 3ms/step - loss: 37964028.0000 - mean_absolute_error: 4417.0190 - root_mean_squared_error: 6161.4956 - val_loss: 2973375.5000 - val_mean_absolute_error: 1309.5419 - val_root_mean_squared_error: 1724.3479\n",
            "Epoch 55/100\n",
            "390/390 [==============================] - 2s 4ms/step - loss: 36567748.0000 - mean_absolute_error: 4332.1152 - root_mean_squared_error: 6047.1274 - val_loss: 2328334.7500 - val_mean_absolute_error: 1138.2595 - val_root_mean_squared_error: 1525.8882\n",
            "Epoch 56/100\n",
            "390/390 [==============================] - 2s 5ms/step - loss: 37781768.0000 - mean_absolute_error: 4381.5059 - root_mean_squared_error: 6146.6875 - val_loss: 3091901.5000 - val_mean_absolute_error: 1329.3466 - val_root_mean_squared_error: 1758.3804\n",
            "Epoch 57/100\n",
            "390/390 [==============================] - 1s 4ms/step - loss: 37321116.0000 - mean_absolute_error: 4376.9873 - root_mean_squared_error: 6109.1011 - val_loss: 2705934.0000 - val_mean_absolute_error: 1238.3990 - val_root_mean_squared_error: 1644.9723\n",
            "Epoch 58/100\n",
            "390/390 [==============================] - 1s 3ms/step - loss: 38031584.0000 - mean_absolute_error: 4412.6558 - root_mean_squared_error: 6166.9751 - val_loss: 3156635.7500 - val_mean_absolute_error: 1337.9661 - val_root_mean_squared_error: 1776.6924\n",
            "Epoch 59/100\n",
            "390/390 [==============================] - 1s 3ms/step - loss: 37493720.0000 - mean_absolute_error: 4386.5942 - root_mean_squared_error: 6123.2114 - val_loss: 2999896.0000 - val_mean_absolute_error: 1304.5349 - val_root_mean_squared_error: 1732.0208\n",
            "Epoch 60/100\n",
            "390/390 [==============================] - 1s 4ms/step - loss: 37819960.0000 - mean_absolute_error: 4400.3823 - root_mean_squared_error: 6149.7935 - val_loss: 2598313.0000 - val_mean_absolute_error: 1211.2345 - val_root_mean_squared_error: 1611.9283\n",
            "Epoch 61/100\n",
            "390/390 [==============================] - 1s 3ms/step - loss: 36642048.0000 - mean_absolute_error: 4357.2212 - root_mean_squared_error: 6053.2676 - val_loss: 3362807.2500 - val_mean_absolute_error: 1405.3047 - val_root_mean_squared_error: 1833.7959\n",
            "Epoch 62/100\n",
            "390/390 [==============================] - 1s 3ms/step - loss: 36268704.0000 - mean_absolute_error: 4362.3662 - root_mean_squared_error: 6022.3506 - val_loss: 3523872.7500 - val_mean_absolute_error: 1455.0018 - val_root_mean_squared_error: 1877.1981\n",
            "Epoch 63/100\n",
            "390/390 [==============================] - 1s 3ms/step - loss: 36333632.0000 - mean_absolute_error: 4335.9272 - root_mean_squared_error: 6027.7388 - val_loss: 2806445.7500 - val_mean_absolute_error: 1257.2642 - val_root_mean_squared_error: 1675.2450\n",
            "Epoch 64/100\n",
            "390/390 [==============================] - 1s 3ms/step - loss: 37023024.0000 - mean_absolute_error: 4366.5488 - root_mean_squared_error: 6084.6548 - val_loss: 4939359.5000 - val_mean_absolute_error: 1781.8987 - val_root_mean_squared_error: 2222.4670\n",
            "Epoch 65/100\n",
            "390/390 [==============================] - 2s 5ms/step - loss: 37155272.0000 - mean_absolute_error: 4365.7822 - root_mean_squared_error: 6095.5122 - val_loss: 2936245.7500 - val_mean_absolute_error: 1308.2714 - val_root_mean_squared_error: 1713.5477\n",
            "Epoch 66/100\n",
            "390/390 [==============================] - 2s 5ms/step - loss: 38075128.0000 - mean_absolute_error: 4406.1226 - root_mean_squared_error: 6170.5049 - val_loss: 2365359.0000 - val_mean_absolute_error: 1137.3544 - val_root_mean_squared_error: 1537.9724\n",
            "Epoch 67/100\n",
            "390/390 [==============================] - 1s 3ms/step - loss: 37282940.0000 - mean_absolute_error: 4360.5488 - root_mean_squared_error: 6105.9756 - val_loss: 3909620.7500 - val_mean_absolute_error: 1554.8699 - val_root_mean_squared_error: 1977.2761\n",
            "Epoch 68/100\n",
            "390/390 [==============================] - 1s 3ms/step - loss: 36741840.0000 - mean_absolute_error: 4356.0659 - root_mean_squared_error: 6061.5049 - val_loss: 3034858.0000 - val_mean_absolute_error: 1336.5383 - val_root_mean_squared_error: 1742.0844\n",
            "Epoch 69/100\n",
            "390/390 [==============================] - 1s 3ms/step - loss: 37044088.0000 - mean_absolute_error: 4364.4663 - root_mean_squared_error: 6086.3853 - val_loss: 3214393.5000 - val_mean_absolute_error: 1367.9962 - val_root_mean_squared_error: 1792.8729\n",
            "Epoch 70/100\n",
            "390/390 [==============================] - 1s 3ms/step - loss: 36689524.0000 - mean_absolute_error: 4359.4062 - root_mean_squared_error: 6057.1880 - val_loss: 3127099.2500 - val_mean_absolute_error: 1352.4839 - val_root_mean_squared_error: 1768.3606\n",
            "Epoch 71/100\n",
            "390/390 [==============================] - 1s 3ms/step - loss: 36961136.0000 - mean_absolute_error: 4369.0435 - root_mean_squared_error: 6079.5669 - val_loss: 3704126.2500 - val_mean_absolute_error: 1508.0875 - val_root_mean_squared_error: 1924.6107\n",
            "Epoch 72/100\n",
            "390/390 [==============================] - 1s 3ms/step - loss: 37497528.0000 - mean_absolute_error: 4388.8618 - root_mean_squared_error: 6123.5225 - val_loss: 3482944.5000 - val_mean_absolute_error: 1434.9617 - val_root_mean_squared_error: 1866.2649\n",
            "Epoch 73/100\n",
            "390/390 [==============================] - 1s 3ms/step - loss: 37309728.0000 - mean_absolute_error: 4366.4429 - root_mean_squared_error: 6108.1689 - val_loss: 2884992.0000 - val_mean_absolute_error: 1285.9813 - val_root_mean_squared_error: 1698.5264\n",
            "Epoch 74/100\n",
            "390/390 [==============================] - 2s 6ms/step - loss: 37424188.0000 - mean_absolute_error: 4408.3223 - root_mean_squared_error: 6117.5312 - val_loss: 4755855.0000 - val_mean_absolute_error: 1744.1705 - val_root_mean_squared_error: 2180.7922\n",
            "Epoch 75/100\n",
            "390/390 [==============================] - 2s 5ms/step - loss: 36494864.0000 - mean_absolute_error: 4344.3691 - root_mean_squared_error: 6041.0981 - val_loss: 3548931.0000 - val_mean_absolute_error: 1456.2374 - val_root_mean_squared_error: 1883.8607\n",
            "Epoch 76/100\n",
            "390/390 [==============================] - 1s 3ms/step - loss: 38249648.0000 - mean_absolute_error: 4407.6479 - root_mean_squared_error: 6184.6299 - val_loss: 3505663.7500 - val_mean_absolute_error: 1470.4135 - val_root_mean_squared_error: 1872.3418\n",
            "Epoch 77/100\n",
            "390/390 [==============================] - 1s 4ms/step - loss: 36755408.0000 - mean_absolute_error: 4353.8784 - root_mean_squared_error: 6062.6240 - val_loss: 3423898.7500 - val_mean_absolute_error: 1441.2949 - val_root_mean_squared_error: 1850.3781\n",
            "Epoch 78/100\n",
            "390/390 [==============================] - 1s 4ms/step - loss: 36004756.0000 - mean_absolute_error: 4307.7153 - root_mean_squared_error: 6000.3965 - val_loss: 3686082.7500 - val_mean_absolute_error: 1508.5168 - val_root_mean_squared_error: 1919.9174\n",
            "Epoch 79/100\n",
            "390/390 [==============================] - 1s 4ms/step - loss: 36703680.0000 - mean_absolute_error: 4337.1548 - root_mean_squared_error: 6058.3564 - val_loss: 4222297.5000 - val_mean_absolute_error: 1619.1525 - val_root_mean_squared_error: 2054.8230\n",
            "Epoch 80/100\n",
            "390/390 [==============================] - 1s 4ms/step - loss: 37837116.0000 - mean_absolute_error: 4406.7163 - root_mean_squared_error: 6151.1880 - val_loss: 2363688.5000 - val_mean_absolute_error: 1159.3496 - val_root_mean_squared_error: 1537.4292\n",
            "Epoch 81/100\n",
            "390/390 [==============================] - 2s 4ms/step - loss: 36977372.0000 - mean_absolute_error: 4371.3525 - root_mean_squared_error: 6080.9023 - val_loss: 4106031.7500 - val_mean_absolute_error: 1606.4930 - val_root_mean_squared_error: 2026.3346\n",
            "Epoch 82/100\n",
            "390/390 [==============================] - 2s 4ms/step - loss: 37823720.0000 - mean_absolute_error: 4413.6499 - root_mean_squared_error: 6150.0991 - val_loss: 3972988.7500 - val_mean_absolute_error: 1582.7035 - val_root_mean_squared_error: 1993.2357\n",
            "Epoch 83/100\n",
            "390/390 [==============================] - 2s 6ms/step - loss: 37371424.0000 - mean_absolute_error: 4395.1440 - root_mean_squared_error: 6113.2173 - val_loss: 3450829.2500 - val_mean_absolute_error: 1459.8829 - val_root_mean_squared_error: 1857.6407\n",
            "Epoch 84/100\n",
            "390/390 [==============================] - 2s 4ms/step - loss: 36001316.0000 - mean_absolute_error: 4325.3926 - root_mean_squared_error: 6000.1099 - val_loss: 3040490.2500 - val_mean_absolute_error: 1334.4736 - val_root_mean_squared_error: 1743.7002\n",
            "Epoch 85/100\n",
            "390/390 [==============================] - 1s 3ms/step - loss: 37146988.0000 - mean_absolute_error: 4375.6914 - root_mean_squared_error: 6094.8330 - val_loss: 2605803.5000 - val_mean_absolute_error: 1216.3087 - val_root_mean_squared_error: 1614.2501\n",
            "Epoch 86/100\n",
            "390/390 [==============================] - 1s 4ms/step - loss: 37138724.0000 - mean_absolute_error: 4357.8643 - root_mean_squared_error: 6094.1548 - val_loss: 3697183.2500 - val_mean_absolute_error: 1509.0826 - val_root_mean_squared_error: 1922.8060\n",
            "Epoch 87/100\n",
            "390/390 [==============================] - 2s 4ms/step - loss: 36787384.0000 - mean_absolute_error: 4390.4482 - root_mean_squared_error: 6065.2603 - val_loss: 2662095.5000 - val_mean_absolute_error: 1239.2727 - val_root_mean_squared_error: 1631.5929\n",
            "Epoch 88/100\n",
            "390/390 [==============================] - 1s 4ms/step - loss: 36440320.0000 - mean_absolute_error: 4303.6587 - root_mean_squared_error: 6036.5820 - val_loss: 2246571.7500 - val_mean_absolute_error: 1118.9930 - val_root_mean_squared_error: 1498.8568\n",
            "Epoch 89/100\n",
            "390/390 [==============================] - 2s 5ms/step - loss: 38701764.0000 - mean_absolute_error: 4465.5850 - root_mean_squared_error: 6221.0742 - val_loss: 2403747.7500 - val_mean_absolute_error: 1170.4313 - val_root_mean_squared_error: 1550.4025\n",
            "Epoch 90/100\n",
            "390/390 [==============================] - 3s 7ms/step - loss: 36314656.0000 - mean_absolute_error: 4323.3330 - root_mean_squared_error: 6026.1641 - val_loss: 2800065.0000 - val_mean_absolute_error: 1277.1427 - val_root_mean_squared_error: 1673.3395\n",
            "Epoch 91/100\n",
            "390/390 [==============================] - 2s 6ms/step - loss: 36322200.0000 - mean_absolute_error: 4329.5630 - root_mean_squared_error: 6026.7900 - val_loss: 3572099.7500 - val_mean_absolute_error: 1459.5880 - val_root_mean_squared_error: 1889.9999\n",
            "Epoch 92/100\n",
            "390/390 [==============================] - 1s 4ms/step - loss: 37315716.0000 - mean_absolute_error: 4384.0381 - root_mean_squared_error: 6108.6592 - val_loss: 3115812.0000 - val_mean_absolute_error: 1365.1039 - val_root_mean_squared_error: 1765.1663\n",
            "Epoch 93/100\n",
            "390/390 [==============================] - 2s 4ms/step - loss: 37407660.0000 - mean_absolute_error: 4359.4966 - root_mean_squared_error: 6116.1802 - val_loss: 4008832.2500 - val_mean_absolute_error: 1575.1096 - val_root_mean_squared_error: 2002.2068\n",
            "Epoch 94/100\n",
            "390/390 [==============================] - 1s 3ms/step - loss: 37337140.0000 - mean_absolute_error: 4357.2832 - root_mean_squared_error: 6110.4126 - val_loss: 2917559.7500 - val_mean_absolute_error: 1297.6329 - val_root_mean_squared_error: 1708.0865\n",
            "Epoch 95/100\n",
            "390/390 [==============================] - 1s 4ms/step - loss: 37092860.0000 - mean_absolute_error: 4370.7769 - root_mean_squared_error: 6090.3906 - val_loss: 3821309.0000 - val_mean_absolute_error: 1549.5474 - val_root_mean_squared_error: 1954.8169\n",
            "Epoch 96/100\n",
            "390/390 [==============================] - 1s 4ms/step - loss: 38126264.0000 - mean_absolute_error: 4410.0557 - root_mean_squared_error: 6174.6470 - val_loss: 2842956.2500 - val_mean_absolute_error: 1307.8906 - val_root_mean_squared_error: 1686.1068\n",
            "Epoch 97/100\n",
            "390/390 [==============================] - 1s 3ms/step - loss: 37225072.0000 - mean_absolute_error: 4395.1787 - root_mean_squared_error: 6101.2354 - val_loss: 3595299.2500 - val_mean_absolute_error: 1501.1581 - val_root_mean_squared_error: 1896.1274\n",
            "Epoch 98/100\n",
            "390/390 [==============================] - 1s 4ms/step - loss: 37228236.0000 - mean_absolute_error: 4338.4858 - root_mean_squared_error: 6101.4946 - val_loss: 3605421.2500 - val_mean_absolute_error: 1501.7164 - val_root_mean_squared_error: 1898.7947\n",
            "Epoch 99/100\n",
            "390/390 [==============================] - 2s 6ms/step - loss: 37658180.0000 - mean_absolute_error: 4378.2642 - root_mean_squared_error: 6136.6260 - val_loss: 3371218.0000 - val_mean_absolute_error: 1429.3314 - val_root_mean_squared_error: 1836.0876\n",
            "Epoch 100/100\n",
            "390/390 [==============================] - 2s 5ms/step - loss: 37141268.0000 - mean_absolute_error: 4361.7930 - root_mean_squared_error: 6094.3638 - val_loss: 3087684.7500 - val_mean_absolute_error: 1355.0903 - val_root_mean_squared_error: 1757.1809\n"
          ]
        }
      ]
    },
    {
      "cell_type": "code",
      "source": [
        "y_t3 = model_3.predict(Xtest_tf)"
      ],
      "metadata": {
        "colab": {
          "base_uri": "https://localhost:8080/"
        },
        "id": "39lH0bSdH3_Z",
        "outputId": "12c67f3c-416a-421f-bae7-2e06062b792c"
      },
      "execution_count": null,
      "outputs": [
        {
          "output_type": "stream",
          "name": "stdout",
          "text": [
            "173/173 [==============================] - 1s 3ms/step\n"
          ]
        }
      ]
    },
    {
      "cell_type": "code",
      "source": [
        "import tensorflow as tf"
      ],
      "metadata": {
        "id": "KnqdzYjWJMV-"
      },
      "execution_count": null,
      "outputs": []
    },
    {
      "cell_type": "code",
      "source": [
        "def display_metrics(y_true, y_pred, model_name):\n",
        "    mae = mean_absolute_error(y_true, y_pred)\n",
        "    mse = mean_squared_error(y_true, y_pred)\n",
        "    rmse = np.sqrt(mean_squared_error(y_true, y_pred))\n",
        "    r2 = r2_score(y_true, y_pred)\n",
        "\n",
        "    print(f'Model: {model_name}')\n",
        "    print(f'MAE: {mae:.2f}')\n",
        "    print(f'MSE: {mse:.2f}')\n",
        "    print(f'RMSE: {rmse:.2f}')\n",
        "    print(f'R2-Score: {r2:.2f}')\n",
        "    print()\n",
        "\n",
        "print('Training set')\n",
        "# Assuming y_test is a pandas Series\n",
        "y_train_array = y_train.values.reshape(-1, 1)\n",
        "# Predict probabilities for each model\n",
        "ytr_pred_v1 = model_1.predict(X_train_tf).reshape(-1, 1)\n",
        "ytr_pred_v2 = model_2.predict(X_train_tf).reshape(-1, 1)\n",
        "ytr_pred_v3 = model_3.predict(X_train_tf).reshape(-1, 1)\n",
        "# Display metrics for each model\n",
        "y_train_array = tf.convert_to_tensor(value=y_train_array, dtype='float32')\n",
        "display_metrics(y_train_array, ytr_pred_v1, 'Model v1')\n",
        "display_metrics(y_train_array, ytr_pred_v2, 'Model v2')\n",
        "display_metrics(y_train_array, ytr_pred_v3, 'Model v3')\n",
        "\n",
        "print('Sample Testing set')\n",
        "# Assuming y_test is a pandas Series\n",
        "y_test_array = y_test.values.reshape(-1, 1)\n",
        "# Predict probabilities for each model\n",
        "yts_pred_v1 = model_1.predict(X_test_tf).reshape(-1, 1)\n",
        "yts_pred_v2 = model_2.predict(X_test_tf).reshape(-1, 1)\n",
        "yts_pred_v3 = model_3.predict(X_test_tf).reshape(-1, 1)\n",
        "# Display metrics for each model\n",
        "y_test_array = tf.convert_to_tensor(value=y_test_array, dtype='float32')\n",
        "display_metrics(y_test_array, yts_pred_v1, 'Model v1')\n",
        "display_metrics(y_test_array, yts_pred_v2, 'Model v2')\n",
        "display_metrics(y_test_array, yts_pred_v3, 'Model v3')\n",
        "\n",
        "\n",
        "y_pred_train_1 = model_1.predict(X_train_tf)\n",
        "y_pred_test_1 = model_1.predict(X_test_tf)\n",
        "y_t = model_1.predict(Xtest_tf)"
      ],
      "metadata": {
        "colab": {
          "base_uri": "https://localhost:8080/"
        },
        "id": "lIqbWhtWJMY1",
        "outputId": "bf1fe8b6-e2a7-4813-f8be-238dbc188c23"
      },
      "execution_count": null,
      "outputs": [
        {
          "output_type": "stream",
          "name": "stdout",
          "text": [
            "Training set\n",
            "390/390 [==============================] - 1s 2ms/step\n",
            "390/390 [==============================] - 1s 2ms/step\n",
            "390/390 [==============================] - 1s 2ms/step\n",
            "Model: Model v1\n",
            "MAE: 694.22\n",
            "MSE: 817623.38\n",
            "RMSE: 904.23\n",
            "R2-Score: 0.99\n",
            "\n",
            "Model: Model v2\n",
            "MAE: 1446.24\n",
            "MSE: 3432371.75\n",
            "RMSE: 1852.67\n",
            "R2-Score: 0.97\n",
            "\n",
            "Model: Model v3\n",
            "MAE: 1372.98\n",
            "MSE: 3111310.75\n",
            "RMSE: 1763.89\n",
            "R2-Score: 0.98\n",
            "\n",
            "Sample Testing set\n",
            "130/130 [==============================] - 0s 3ms/step\n",
            "130/130 [==============================] - 0s 3ms/step\n",
            "130/130 [==============================] - 0s 2ms/step\n",
            "Model: Model v1\n",
            "MAE: 722.20\n",
            "MSE: 921668.56\n",
            "RMSE: 960.04\n",
            "R2-Score: 0.99\n",
            "\n",
            "Model: Model v2\n",
            "MAE: 1429.27\n",
            "MSE: 3401868.00\n",
            "RMSE: 1844.42\n",
            "R2-Score: 0.97\n",
            "\n",
            "Model: Model v3\n",
            "MAE: 1355.09\n",
            "MSE: 3087686.00\n",
            "RMSE: 1757.18\n",
            "R2-Score: 0.98\n",
            "\n",
            "390/390 [==============================] - 1s 2ms/step\n",
            "130/130 [==============================] - 0s 2ms/step\n",
            "173/173 [==============================] - 0s 2ms/step\n"
          ]
        }
      ]
    },
    {
      "cell_type": "code",
      "source": [
        "import matplotlib.pyplot as plt"
      ],
      "metadata": {
        "id": "2Vn7oxjGJbPG"
      },
      "execution_count": null,
      "outputs": []
    },
    {
      "cell_type": "code",
      "source": [
        "plt.figure(figsize=(8,8))\n",
        "plt.scatter(y_train, lr_train_preds,color = 'yellow')\n",
        "plt.xlabel(\"Actual Product Weight\")\n",
        "plt.ylabel(\"Predicted Product Weight\")\n",
        "plt.title(\"Actual vs. Predicted Product Weight\")\n",
        "plt.show()"
      ],
      "metadata": {
        "colab": {
          "base_uri": "https://localhost:8080/",
          "height": 718
        },
        "id": "2APZmvkBJbR9",
        "outputId": "c72a8fb2-fab8-4c74-eb1d-f32796bd9d6a"
      },
      "execution_count": null,
      "outputs": [
        {
          "output_type": "display_data",
          "data": {
            "text/plain": [
              "<Figure size 800x800 with 1 Axes>"
            ],
            "image/png": "[encoded data removed]"
          },
          "metadata": {}
        }
      ]
    }
  ]
}